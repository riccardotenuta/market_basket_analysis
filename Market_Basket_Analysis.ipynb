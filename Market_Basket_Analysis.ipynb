{
  "cells": [
    {
      "cell_type": "markdown",
      "metadata": {
        "id": "view-in-github",
        "colab_type": "text"
      },
      "source": [
        "<a href=\"https://colab.research.google.com/github/riccardotenuta/market_basket_analysis/blob/main/Market_Basket_Analysis.ipynb\" target=\"_parent\"><img src=\"https://colab.research.google.com/assets/colab-badge.svg\" alt=\"Open In Colab\"/></a>"
      ]
    },
    {
      "cell_type": "markdown",
      "metadata": {
        "id": "0tMrYVtShWEv"
      },
      "source": [
        "# Import dataset from Kaggle"
      ]
    },
    {
      "cell_type": "code",
      "execution_count": 1,
      "metadata": {
        "colab": {
          "base_uri": "https://localhost:8080/",
          "height": 91
        },
        "id": "S3GmKOsou_27",
        "outputId": "c0468533-412d-4b28-a85c-4cd3e234269c"
      },
      "outputs": [
        {
          "output_type": "display_data",
          "data": {
            "text/plain": [
              "<IPython.core.display.HTML object>"
            ],
            "text/html": [
              "\n",
              "     <input type=\"file\" id=\"files-c44a9526-cf14-42cd-98b9-8562d1a36c3d\" name=\"files[]\" multiple disabled\n",
              "        style=\"border:none\" />\n",
              "     <output id=\"result-c44a9526-cf14-42cd-98b9-8562d1a36c3d\">\n",
              "      Upload widget is only available when the cell has been executed in the\n",
              "      current browser session. Please rerun this cell to enable.\n",
              "      </output>\n",
              "      <script>// Copyright 2017 Google LLC\n",
              "//\n",
              "// Licensed under the Apache License, Version 2.0 (the \"License\");\n",
              "// you may not use this file except in compliance with the License.\n",
              "// You may obtain a copy of the License at\n",
              "//\n",
              "//      http://www.apache.org/licenses/LICENSE-2.0\n",
              "//\n",
              "// Unless required by applicable law or agreed to in writing, software\n",
              "// distributed under the License is distributed on an \"AS IS\" BASIS,\n",
              "// WITHOUT WARRANTIES OR CONDITIONS OF ANY KIND, either express or implied.\n",
              "// See the License for the specific language governing permissions and\n",
              "// limitations under the License.\n",
              "\n",
              "/**\n",
              " * @fileoverview Helpers for google.colab Python module.\n",
              " */\n",
              "(function(scope) {\n",
              "function span(text, styleAttributes = {}) {\n",
              "  const element = document.createElement('span');\n",
              "  element.textContent = text;\n",
              "  for (const key of Object.keys(styleAttributes)) {\n",
              "    element.style[key] = styleAttributes[key];\n",
              "  }\n",
              "  return element;\n",
              "}\n",
              "\n",
              "// Max number of bytes which will be uploaded at a time.\n",
              "const MAX_PAYLOAD_SIZE = 100 * 1024;\n",
              "\n",
              "function _uploadFiles(inputId, outputId) {\n",
              "  const steps = uploadFilesStep(inputId, outputId);\n",
              "  const outputElement = document.getElementById(outputId);\n",
              "  // Cache steps on the outputElement to make it available for the next call\n",
              "  // to uploadFilesContinue from Python.\n",
              "  outputElement.steps = steps;\n",
              "\n",
              "  return _uploadFilesContinue(outputId);\n",
              "}\n",
              "\n",
              "// This is roughly an async generator (not supported in the browser yet),\n",
              "// where there are multiple asynchronous steps and the Python side is going\n",
              "// to poll for completion of each step.\n",
              "// This uses a Promise to block the python side on completion of each step,\n",
              "// then passes the result of the previous step as the input to the next step.\n",
              "function _uploadFilesContinue(outputId) {\n",
              "  const outputElement = document.getElementById(outputId);\n",
              "  const steps = outputElement.steps;\n",
              "\n",
              "  const next = steps.next(outputElement.lastPromiseValue);\n",
              "  return Promise.resolve(next.value.promise).then((value) => {\n",
              "    // Cache the last promise value to make it available to the next\n",
              "    // step of the generator.\n",
              "    outputElement.lastPromiseValue = value;\n",
              "    return next.value.response;\n",
              "  });\n",
              "}\n",
              "\n",
              "/**\n",
              " * Generator function which is called between each async step of the upload\n",
              " * process.\n",
              " * @param {string} inputId Element ID of the input file picker element.\n",
              " * @param {string} outputId Element ID of the output display.\n",
              " * @return {!Iterable<!Object>} Iterable of next steps.\n",
              " */\n",
              "function* uploadFilesStep(inputId, outputId) {\n",
              "  const inputElement = document.getElementById(inputId);\n",
              "  inputElement.disabled = false;\n",
              "\n",
              "  const outputElement = document.getElementById(outputId);\n",
              "  outputElement.innerHTML = '';\n",
              "\n",
              "  const pickedPromise = new Promise((resolve) => {\n",
              "    inputElement.addEventListener('change', (e) => {\n",
              "      resolve(e.target.files);\n",
              "    });\n",
              "  });\n",
              "\n",
              "  const cancel = document.createElement('button');\n",
              "  inputElement.parentElement.appendChild(cancel);\n",
              "  cancel.textContent = 'Cancel upload';\n",
              "  const cancelPromise = new Promise((resolve) => {\n",
              "    cancel.onclick = () => {\n",
              "      resolve(null);\n",
              "    };\n",
              "  });\n",
              "\n",
              "  // Wait for the user to pick the files.\n",
              "  const files = yield {\n",
              "    promise: Promise.race([pickedPromise, cancelPromise]),\n",
              "    response: {\n",
              "      action: 'starting',\n",
              "    }\n",
              "  };\n",
              "\n",
              "  cancel.remove();\n",
              "\n",
              "  // Disable the input element since further picks are not allowed.\n",
              "  inputElement.disabled = true;\n",
              "\n",
              "  if (!files) {\n",
              "    return {\n",
              "      response: {\n",
              "        action: 'complete',\n",
              "      }\n",
              "    };\n",
              "  }\n",
              "\n",
              "  for (const file of files) {\n",
              "    const li = document.createElement('li');\n",
              "    li.append(span(file.name, {fontWeight: 'bold'}));\n",
              "    li.append(span(\n",
              "        `(${file.type || 'n/a'}) - ${file.size} bytes, ` +\n",
              "        `last modified: ${\n",
              "            file.lastModifiedDate ? file.lastModifiedDate.toLocaleDateString() :\n",
              "                                    'n/a'} - `));\n",
              "    const percent = span('0% done');\n",
              "    li.appendChild(percent);\n",
              "\n",
              "    outputElement.appendChild(li);\n",
              "\n",
              "    const fileDataPromise = new Promise((resolve) => {\n",
              "      const reader = new FileReader();\n",
              "      reader.onload = (e) => {\n",
              "        resolve(e.target.result);\n",
              "      };\n",
              "      reader.readAsArrayBuffer(file);\n",
              "    });\n",
              "    // Wait for the data to be ready.\n",
              "    let fileData = yield {\n",
              "      promise: fileDataPromise,\n",
              "      response: {\n",
              "        action: 'continue',\n",
              "      }\n",
              "    };\n",
              "\n",
              "    // Use a chunked sending to avoid message size limits. See b/62115660.\n",
              "    let position = 0;\n",
              "    do {\n",
              "      const length = Math.min(fileData.byteLength - position, MAX_PAYLOAD_SIZE);\n",
              "      const chunk = new Uint8Array(fileData, position, length);\n",
              "      position += length;\n",
              "\n",
              "      const base64 = btoa(String.fromCharCode.apply(null, chunk));\n",
              "      yield {\n",
              "        response: {\n",
              "          action: 'append',\n",
              "          file: file.name,\n",
              "          data: base64,\n",
              "        },\n",
              "      };\n",
              "\n",
              "      let percentDone = fileData.byteLength === 0 ?\n",
              "          100 :\n",
              "          Math.round((position / fileData.byteLength) * 100);\n",
              "      percent.textContent = `${percentDone}% done`;\n",
              "\n",
              "    } while (position < fileData.byteLength);\n",
              "  }\n",
              "\n",
              "  // All done.\n",
              "  yield {\n",
              "    response: {\n",
              "      action: 'complete',\n",
              "    }\n",
              "  };\n",
              "}\n",
              "\n",
              "scope.google = scope.google || {};\n",
              "scope.google.colab = scope.google.colab || {};\n",
              "scope.google.colab._files = {\n",
              "  _uploadFiles,\n",
              "  _uploadFilesContinue,\n",
              "};\n",
              "})(self);\n",
              "</script> "
            ]
          },
          "metadata": {}
        },
        {
          "output_type": "stream",
          "name": "stdout",
          "text": [
            "Saving kaggle.json to kaggle.json\n"
          ]
        },
        {
          "output_type": "execute_result",
          "data": {
            "text/plain": [
              "{'kaggle.json': b'{\"username\":\"riccardotenuta0023\",\"key\":\"9fe14c68d229c6d70a59ac7ce2172410\"}'}"
            ]
          },
          "metadata": {},
          "execution_count": 1
        }
      ],
      "source": [
        "from google.colab import files\n",
        "files.upload()"
      ]
    },
    {
      "cell_type": "code",
      "execution_count": 2,
      "metadata": {
        "colab": {
          "base_uri": "https://localhost:8080/"
        },
        "id": "sFF4rF4ovkGr",
        "outputId": "5d3dffee-b848-4b9f-b2c6-21588671a114"
      },
      "outputs": [
        {
          "output_type": "stream",
          "name": "stdout",
          "text": [
            "-rw-r--r-- 1 root root 74 May  1 14:16 kaggle.json\n",
            "/content\n"
          ]
        }
      ],
      "source": [
        "!ls -lha kaggle.json\n",
        "!pip install -q kaggle # installing the kaggle package\n",
        "!mkdir -p ~/.kaggle # creating .kaggle folder where the key should be placed\n",
        "!cp kaggle.json ~/.kaggle/ # move the key to the folder\n",
        "!pwd # checking the present working directory"
      ]
    },
    {
      "cell_type": "code",
      "execution_count": 3,
      "metadata": {
        "id": "Gl_Cs-6ZwDlT"
      },
      "outputs": [],
      "source": [
        "!chmod 600 ~/.kaggle/kaggle.json"
      ]
    },
    {
      "cell_type": "code",
      "execution_count": 4,
      "metadata": {
        "colab": {
          "base_uri": "https://localhost:8080/"
        },
        "id": "426pxKgjy8sc",
        "outputId": "8aa8d119-c36f-4012-9795-29b435242a3f"
      },
      "outputs": [
        {
          "output_type": "stream",
          "name": "stdout",
          "text": [
            "Dataset URL: https://www.kaggle.com/datasets/asaniczka/1-3m-linkedin-jobs-and-skills-2024\n",
            "License(s): ODC Attribution License (ODC-By)\n",
            "Downloading 1-3m-linkedin-jobs-and-skills-2024.zip to /content/drive/MyDrive\n",
            "100% 1.87G/1.88G [00:34<00:00, 98.9MB/s]\n",
            "100% 1.88G/1.88G [00:34<00:00, 57.9MB/s]\n"
          ]
        }
      ],
      "source": [
        "!kaggle datasets download -d asaniczka/1-3m-linkedin-jobs-and-skills-2024 -p /content/drive/MyDrive/"
      ]
    },
    {
      "cell_type": "code",
      "execution_count": 5,
      "metadata": {
        "colab": {
          "base_uri": "https://localhost:8080/"
        },
        "id": "LT79m_wuxPLp",
        "outputId": "e5ae0e90-90a4-48d2-808a-5f766dcae0ae"
      },
      "outputs": [
        {
          "output_type": "stream",
          "name": "stdout",
          "text": [
            "Archive:  /content/drive/MyDrive/1-3m-linkedin-jobs-and-skills-2024.zip\n",
            "  inflating: /content/drive/MyDrive/job_skills.csv  \n",
            "  inflating: /content/drive/MyDrive/job_summary.csv  \n",
            "  inflating: /content/drive/MyDrive/linkedin_job_postings.csv  \n"
          ]
        }
      ],
      "source": [
        "!unzip /content/drive/MyDrive/1-3m-linkedin-jobs-and-skills-2024.zip -d /content/drive/MyDrive/"
      ]
    },
    {
      "cell_type": "code",
      "execution_count": 6,
      "metadata": {
        "id": "e2fH2lDmzG-M",
        "colab": {
          "base_uri": "https://localhost:8080/"
        },
        "outputId": "308137ee-b250-445e-8832-05828feb2322"
      },
      "outputs": [
        {
          "output_type": "stream",
          "name": "stdout",
          "text": [
            "Collecting pyspark\n",
            "  Downloading pyspark-3.5.1.tar.gz (317.0 MB)\n",
            "\u001b[2K     \u001b[90m━━━━━━━━━━━━━━━━━━━━━━━━━━━━━━━━━━━━━━━━\u001b[0m \u001b[32m317.0/317.0 MB\u001b[0m \u001b[31m3.2 MB/s\u001b[0m eta \u001b[36m0:00:00\u001b[0m\n",
            "\u001b[?25h  Preparing metadata (setup.py) ... \u001b[?25l\u001b[?25hdone\n",
            "Requirement already satisfied: py4j==0.10.9.7 in /usr/local/lib/python3.10/dist-packages (from pyspark) (0.10.9.7)\n",
            "Building wheels for collected packages: pyspark\n",
            "  Building wheel for pyspark (setup.py) ... \u001b[?25l\u001b[?25hdone\n",
            "  Created wheel for pyspark: filename=pyspark-3.5.1-py2.py3-none-any.whl size=317488491 sha256=4ad287b5b5874d58587b629fe932f753293ef730ab88207fc645bfd46e7610c3\n",
            "  Stored in directory: /root/.cache/pip/wheels/80/1d/60/2c256ed38dddce2fdd93be545214a63e02fbd8d74fb0b7f3a6\n",
            "Successfully built pyspark\n",
            "Installing collected packages: pyspark\n",
            "Successfully installed pyspark-3.5.1\n"
          ]
        }
      ],
      "source": [
        "import pandas as pd\n",
        "import numpy as np\n",
        "import os\n",
        "!pip install pyspark\n",
        "from pyspark.sql import SparkSession\n",
        "import pyspark"
      ]
    },
    {
      "cell_type": "markdown",
      "metadata": {
        "id": "4B9hsnz7h0vI"
      },
      "source": [
        "## Data preparation"
      ]
    },
    {
      "cell_type": "code",
      "execution_count": 7,
      "metadata": {
        "id": "ox0vEju0qrU3"
      },
      "outputs": [],
      "source": [
        "spark = SparkSession.builder.appName(\"linkedin_project_SON\").getOrCreate()"
      ]
    },
    {
      "cell_type": "code",
      "execution_count": 8,
      "metadata": {
        "id": "-DtH0w7NlV6n"
      },
      "outputs": [],
      "source": [
        "# import of the csv and selecting only the job_skills column\n",
        "rdd_from_csv = spark.read.csv('./drive/MyDrive/job_skills.csv', header=True).dropna()\n",
        "rdd_from_csv = rdd_from_csv.select(rdd_from_csv['job_skills']).rdd"
      ]
    },
    {
      "cell_type": "code",
      "execution_count": 9,
      "metadata": {
        "id": "yIE0WvpywYTj"
      },
      "outputs": [],
      "source": [
        "# splitting every basket to create the item list\n",
        "rdd_from_csv = rdd_from_csv.map(lambda basket: basket['job_skills'].split(', '))"
      ]
    },
    {
      "cell_type": "code",
      "execution_count": 10,
      "metadata": {
        "id": "Eo7LiVai3UaA",
        "colab": {
          "base_uri": "https://localhost:8080/"
        },
        "outputId": "32eba0a7-28d6-4049-f8ea-9eed46258f10"
      },
      "outputs": [
        {
          "output_type": "execute_result",
          "data": {
            "text/plain": [
              "[['Building Custodial Services',\n",
              "  'Cleaning',\n",
              "  'Janitorial Services',\n",
              "  'Materials Handling',\n",
              "  'Housekeeping',\n",
              "  'Sanitation',\n",
              "  'Waste Management',\n",
              "  'Floor Maintenance',\n",
              "  'Equipment Maintenance',\n",
              "  'Safety Protocols',\n",
              "  'Communication Skills',\n",
              "  'Attention to Detail',\n",
              "  'Physical Strength',\n",
              "  'Experience in Housekeeping'],\n",
              " ['Customer service',\n",
              "  'Restaurant management',\n",
              "  'Food safety',\n",
              "  'Training',\n",
              "  'Supervision',\n",
              "  'Scheduling',\n",
              "  'Inventory',\n",
              "  'Cost control',\n",
              "  'Sales',\n",
              "  'Communication',\n",
              "  'Problemsolving',\n",
              "  'Leadership',\n",
              "  'Motivation',\n",
              "  'Teamwork',\n",
              "  'High School Diploma',\n",
              "  \"Bachelor's Degree\",\n",
              "  'ServSafe Certification',\n",
              "  \"Valid Driver's License\",\n",
              "  'Physical ability to perform job duties']]"
            ]
          },
          "metadata": {},
          "execution_count": 10
        }
      ],
      "source": [
        "# example of the first two baskets\n",
        "rdd_from_csv.take(2)"
      ]
    },
    {
      "cell_type": "code",
      "execution_count": 11,
      "metadata": {
        "id": "OlMYKyfVRmGA",
        "colab": {
          "base_uri": "https://localhost:8080/"
        },
        "outputId": "8e9b9070-434a-46e3-8ec5-2e307ea7f759"
      },
      "outputs": [
        {
          "output_type": "execute_result",
          "data": {
            "text/plain": [
              "25597"
            ]
          },
          "metadata": {},
          "execution_count": 11
        }
      ],
      "source": [
        "# sampling the 10% of the whole dataset to compute easily the SON algorithm\n",
        "rdd_son = rdd_from_csv.sample(withReplacement=False, fraction=0.02)\n",
        "num_baskets = rdd_son.count()\n",
        "num_baskets"
      ]
    },
    {
      "cell_type": "code",
      "execution_count": 12,
      "metadata": {
        "id": "PGX1iSc8Xd_K",
        "colab": {
          "base_uri": "https://localhost:8080/"
        },
        "outputId": "8ee50cb0-8cae-4558-c90e-37a73f1406c0"
      },
      "outputs": [
        {
          "output_type": "stream",
          "name": "stdout",
          "text": [
            "Partitions before -> 6\n",
            "Optimal partitions -> 8\n"
          ]
        }
      ],
      "source": [
        "initial_partitions = rdd_son.getNumPartitions()\n",
        "\"\"\"\n",
        "Spark suggests to use 2-4 partitions for each CPU on the machine, since running the algorithm only on a single machine\n",
        "I'll take this value from the cpu_count() function inside the multiprocessing library\n",
        "\n",
        "https://spark.apache.org/docs/latest/rdd-programming-guide.html#parallelized-collections\n",
        "\"\"\"\n",
        "from multiprocessing import cpu_count\n",
        "optimal_partitions = 4*cpu_count()\n",
        "\n",
        "rdd_son.repartition(numPartitions=optimal_partitions)\n",
        "\n",
        "print(f'Partitions before -> {initial_partitions}')\n",
        "print(f'Optimal partitions -> {optimal_partitions}')"
      ]
    },
    {
      "cell_type": "code",
      "execution_count": 13,
      "metadata": {
        "id": "JZv_AQ01uGjF",
        "colab": {
          "base_uri": "https://localhost:8080/"
        },
        "outputId": "d27010f2-846f-49a8-fb58-c2aac46c14e9"
      },
      "outputs": [
        {
          "output_type": "stream",
          "name": "stdout",
          "text": [
            "Support threshold for each partition/chunk of data is 85\n"
          ]
        }
      ],
      "source": [
        "# define the support for each partition\n",
        "\n",
        "support_threshold = round(0.02*num_baskets)\n",
        "st_partition = round(support_threshold / rdd_son.getNumPartitions())\n",
        "\n",
        "print(f'Support threshold for each partition/chunk of data is {st_partition}')"
      ]
    },
    {
      "cell_type": "code",
      "execution_count": 14,
      "metadata": {
        "id": "GR0a7V4rytt8"
      },
      "outputs": [],
      "source": [
        "def first_pass(partition, support: int) -> list:\n",
        "\n",
        "  item_count = {}\n",
        "\n",
        "  for basket in partition:\n",
        "    for item in basket:\n",
        "      item_count[item] = item_count.get(item, 0) + 1\n",
        "\n",
        "  frequent_singleton = [(item, count) for item, count in item_count.items() if count >= support]\n",
        "\n",
        "  return sorted(frequent_singleton, key=lambda x: x[1], reverse=True)\n",
        "\n",
        "first_pass_rdd = rdd_son.mapPartitions(lambda partition: first_pass(partition, st_partition))"
      ]
    },
    {
      "cell_type": "code",
      "execution_count": 15,
      "metadata": {
        "id": "R6jsQXJvji5l",
        "colab": {
          "base_uri": "https://localhost:8080/"
        },
        "outputId": "4309da8b-e886-47e5-f713-9556d8af0e51"
      },
      "outputs": [
        {
          "output_type": "execute_result",
          "data": {
            "text/plain": [
              "[('Communication', 1342),\n",
              " ('Teamwork', 839),\n",
              " ('Leadership', 640),\n",
              " ('Customer service', 582),\n",
              " ('Communication skills', 439),\n",
              " ('Customer Service', 396),\n",
              " ('Problem Solving', 383),\n",
              " ('Attention to detail', 339),\n",
              " ('Problemsolving', 332),\n",
              " ('Communication Skills', 324)]"
            ]
          },
          "metadata": {},
          "execution_count": 15
        }
      ],
      "source": [
        "first_pass_rdd.take(10)"
      ]
    },
    {
      "cell_type": "code",
      "execution_count": 16,
      "metadata": {
        "id": "6jk2NnFEDy1Q",
        "colab": {
          "base_uri": "https://localhost:8080/"
        },
        "outputId": "a5fea75b-6616-48d7-fe6b-8bc606a0121a"
      },
      "outputs": [
        {
          "output_type": "execute_result",
          "data": {
            "text/plain": [
              "['Communication',\n",
              " 'Teamwork',\n",
              " 'Leadership',\n",
              " 'Customer service',\n",
              " 'Communication skills',\n",
              " 'Customer Service',\n",
              " 'Problem Solving',\n",
              " 'Attention to detail',\n",
              " 'Problemsolving',\n",
              " 'Communication Skills']"
            ]
          },
          "metadata": {},
          "execution_count": 16
        }
      ],
      "source": [
        "frequent_singleton = first_pass_rdd.map(lambda item: item[0]).collect()\n",
        "frequent_singleton[:10]"
      ]
    },
    {
      "cell_type": "code",
      "execution_count": 17,
      "metadata": {
        "id": "ZrxyTJI2_wX-"
      },
      "outputs": [],
      "source": [
        "from itertools import combinations\n",
        "\n",
        "def second_pass(partition, support: int) -> list:\n",
        "\n",
        "  couples_count = {}\n",
        "\n",
        "  for basket in partition:\n",
        "    candidate_couples = list(combinations(basket, 2))\n",
        "    for c in candidate_couples:\n",
        "\n",
        "      if all(x in frequent_singleton for x in c):\n",
        "          couples_count[c] = couples_count.get(c, 0) + 1\n",
        "\n",
        "  frequent_couples = [(couple, count) for couple, count in couples_count.items() if count >= support]\n",
        "  return sorted(frequent_couples, reverse=True, key=lambda x: x[1])\n",
        "\n",
        "second_pass_rdd = rdd_son.mapPartitions(lambda partition: second_pass(partition, st_partition))"
      ]
    },
    {
      "cell_type": "code",
      "source": [
        "frequent_couples = second_pass_rdd.reduceByKey(lambda x,y: x+y).collect()"
      ],
      "metadata": {
        "id": "5X0F2USHzmII"
      },
      "execution_count": 27,
      "outputs": []
    },
    {
      "cell_type": "code",
      "execution_count": 19,
      "metadata": {
        "id": "sbsvpONjCMJT",
        "colab": {
          "base_uri": "https://localhost:8080/"
        },
        "outputId": "a9b8e39c-09c2-4206-b0e1-a7c683724c3c"
      },
      "outputs": [
        {
          "output_type": "execute_result",
          "data": {
            "text/plain": [
              "[(('Communication', 'Teamwork'), 410),\n",
              " (('Customer service', 'Communication'), 225),\n",
              " (('Leadership', 'Communication'), 217),\n",
              " (('Communication', 'Leadership'), 206),\n",
              " (('Communication', 'Problemsolving'), 194),\n",
              " (('Communication', 'Problem Solving'), 186),\n",
              " (('Customer service', 'Teamwork'), 163),\n",
              " (('Communication', 'Adaptability'), 150),\n",
              " (('Communication', 'Attention to detail'), 148),\n",
              " (('Communication', 'Time Management'), 145)]"
            ]
          },
          "metadata": {},
          "execution_count": 19
        }
      ],
      "source": [
        "second_pass_rdd.take(10)"
      ]
    },
    {
      "cell_type": "code",
      "execution_count": 20,
      "metadata": {
        "id": "0GN3fwqCoh4q"
      },
      "outputs": [],
      "source": [
        "def get_frequent_itemset(partition, support, frequent_itemset, n_pass):\n",
        "\n",
        "  item_set_count = {}\n",
        "  for basket in partition:\n",
        "\n",
        "    candidate_itemset = list(combinations(basket, n_pass))\n",
        "    for c in candidate_itemset:\n",
        "\n",
        "      if n_pass > 2: subset = list(combinations(c, n_pass-1))\n",
        "      else: subset = c\n",
        "\n",
        "      # check if all the item of the candidate set are in the basket and if its subsets are contained in the previous frequent itemsets\n",
        "      if all(x in frequent_itemset for x in subset):\n",
        "        item_set_count[c] = item_set_count.get(c, 0) + 1\n",
        "\n",
        "  new_frequent_itemset = [(itemset, count) for itemset, count in item_set_count.items() if count >= support]\n",
        "\n",
        "  return sorted(new_frequent_itemset, reverse=True, key=lambda x: x[1])\n"
      ]
    },
    {
      "cell_type": "code",
      "execution_count": 21,
      "metadata": {
        "id": "aUNFug_bjqCB",
        "colab": {
          "base_uri": "https://localhost:8080/"
        },
        "outputId": "2c1c9218-6f98-437f-fa87-2745b6551a51"
      },
      "outputs": [
        {
          "output_type": "stream",
          "name": "stdout",
          "text": [
            "Pass 1\n",
            "[('Communication', 1342), ('Teamwork', 839), ('Leadership', 640), ('Customer service', 582), ('Communication skills', 439), ('Customer Service', 396), ('Problem Solving', 383), ('Attention to detail', 339), ('Problemsolving', 332), ('Communication Skills', 324)]\n",
            "Pass 2\n",
            "[(('Communication', 'Time management'), 695), (('Communication', 'Flexibility'), 587), (('Customer service', 'Communication skills'), 472), (('Customer service', 'Leadership'), 457), (('Leadership', 'Training'), 499), (('Communication', 'Microsoft Office Suite'), 276), (('Problem Solving', 'Time Management'), 175), (('Training', 'Communication'), 90), (('Communication', 'Attention to detail'), 659), (('Customer service', 'Problemsolving'), 758)]\n",
            "Pass 3\n",
            "[(('Leadership', 'Communication', 'Teamwork'), 86), (('Customer service', 'Communication', 'Teamwork'), 393), (('Customer service', 'Communication', 'Problemsolving'), 370), (('Communication', 'Teamwork', 'Problemsolving'), 85)]\n",
            "Pass 4\n",
            "[]\n"
          ]
        }
      ],
      "source": [
        "# get frequent singleton\n",
        "\n",
        "rdd_iter = []\n",
        "n_pass = 1\n",
        "\n",
        "rdd_frequent_itemset = rdd_son.mapPartitions(lambda partition: first_pass(partition, st_partition))\n",
        "print(f'Pass {n_pass}')\n",
        "print(rdd_frequent_itemset.take(10))\n",
        "rdd_iter.append(rdd_frequent_itemset)\n",
        "\n",
        "frequent_itemset = set(rdd_frequent_itemset.map(lambda item: item[0]).collect())\n",
        "frequent_itemset_len = rdd_frequent_itemset.count()\n",
        "\n",
        "n_pass = 2\n",
        "\n",
        "while len(frequent_itemset) > 0:\n",
        "\n",
        "  rdd_frequent_itemset = rdd_son.mapPartitions(lambda partition: get_frequent_itemset(partition, st_partition, frequent_itemset, n_pass)).reduceByKey(lambda x,y: x+y)\n",
        "  rdd_iter.append(rdd_frequent_itemset)\n",
        "  print(f'Pass {n_pass}')\n",
        "\n",
        "  print(rdd_frequent_itemset.take(10))\n",
        "\n",
        "  frequent_itemset = set(rdd_frequent_itemset.map(lambda item: item[0]).collect())\n",
        "\n",
        "  n_pass += 1\n"
      ]
    },
    {
      "cell_type": "code",
      "execution_count": 28,
      "metadata": {
        "id": "z6Lwa6dwlYOF"
      },
      "outputs": [],
      "source": [
        "def get_couples_support(couple, frequent_couples):\n",
        "  for c in frequent_couples:\n",
        "    if list(c[0]) == couple:\n",
        "      return c[1]"
      ]
    },
    {
      "cell_type": "code",
      "execution_count": 29,
      "metadata": {
        "id": "lvqWrXwsjfU3"
      },
      "outputs": [],
      "source": [
        "def compute_association_rules(frequent_itemset_support, frequent_couples):\n",
        "  for frequent_itemset in frequent_itemset_support[:5]:\n",
        "    for item in frequent_itemset[0]:\n",
        "      fi = list(frequent_itemset[0])\n",
        "\n",
        "      fi.remove(item)\n",
        "      couple_support = get_couples_support(fi, frequent_couples)\n",
        "      support_with_item = frequent_itemset[1]\n",
        "\n",
        "      confidence = round((support_with_item / couple_support)*100, 1)\n",
        "\n",
        "      print(f'{fi} --> {item} with {confidence}%')\n"
      ]
    },
    {
      "cell_type": "code",
      "execution_count": 30,
      "metadata": {
        "id": "VK17WnyklKVY",
        "colab": {
          "base_uri": "https://localhost:8080/"
        },
        "outputId": "148260ff-fb6c-4d3d-bfac-f7cd8dc9c39f"
      },
      "outputs": [
        {
          "output_type": "stream",
          "name": "stdout",
          "text": [
            "['Communication', 'Teamwork'] --> Leadership with 3.9%\n",
            "['Leadership', 'Teamwork'] --> Communication with 10.4%\n",
            "['Leadership', 'Communication'] --> Teamwork with 6.7%\n",
            "['Communication', 'Teamwork'] --> Customer service with 17.7%\n",
            "['Customer service', 'Teamwork'] --> Communication with 40.4%\n",
            "['Customer service', 'Communication'] --> Teamwork with 32.1%\n",
            "['Communication', 'Problemsolving'] --> Customer service with 35.2%\n",
            "['Customer service', 'Problemsolving'] --> Communication with 48.8%\n",
            "['Customer service', 'Communication'] --> Problemsolving with 30.2%\n",
            "['Teamwork', 'Problemsolving'] --> Communication with 15.0%\n",
            "['Communication', 'Problemsolving'] --> Teamwork with 8.1%\n",
            "['Communication', 'Teamwork'] --> Problemsolving with 3.8%\n"
          ]
        }
      ],
      "source": [
        "# TODO reduce to all frquent couples from all the partitions (maintain unique frequent couples)\n",
        "frequent_triplets = rdd_iter[2].reduceByKey(lambda x, y: x+y).collect()\n",
        "compute_association_rules(frequent_triplets, frequent_couples)"
      ]
    }
  ],
  "metadata": {
    "accelerator": "GPU",
    "colab": {
      "gpuType": "T4",
      "provenance": [],
      "authorship_tag": "ABX9TyOfnH3pnCKVD01cSLz6q2FX",
      "include_colab_link": true
    },
    "kernelspec": {
      "display_name": "Python 3",
      "name": "python3"
    },
    "language_info": {
      "name": "python"
    }
  },
  "nbformat": 4,
  "nbformat_minor": 0
}