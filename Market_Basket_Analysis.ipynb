{
  "nbformat": 4,
  "nbformat_minor": 0,
  "metadata": {
    "colab": {
      "provenance": [],
      "authorship_tag": "ABX9TyOW7DCKEmbg87lR2ck80hK7",
      "include_colab_link": true
    },
    "kernelspec": {
      "name": "python3",
      "display_name": "Python 3"
    },
    "language_info": {
      "name": "python"
    }
  },
  "cells": [
    {
      "cell_type": "markdown",
      "metadata": {
        "id": "view-in-github",
        "colab_type": "text"
      },
      "source": [
        "<a href=\"https://colab.research.google.com/github/riccardotenuta/market_basket_analysis/blob/main/Market_Basket_Analysis.ipynb\" target=\"_parent\"><img src=\"https://colab.research.google.com/assets/colab-badge.svg\" alt=\"Open In Colab\"/></a>"
      ]
    },
    {
      "cell_type": "markdown",
      "source": [
        "# Import dataset from Kaggle"
      ],
      "metadata": {
        "id": "0tMrYVtShWEv"
      }
    },
    {
      "cell_type": "code",
      "execution_count": null,
      "metadata": {
        "colab": {
          "base_uri": "https://localhost:8080/",
          "height": 91
        },
        "id": "S3GmKOsou_27",
        "outputId": "3cd693cd-afcf-4ed7-c4a1-899deea074c9"
      },
      "outputs": [
        {
          "output_type": "display_data",
          "data": {
            "text/plain": [
              "<IPython.core.display.HTML object>"
            ],
            "text/html": [
              "\n",
              "     <input type=\"file\" id=\"files-9b8c8978-e583-4a98-aa2c-764bce35c588\" name=\"files[]\" multiple disabled\n",
              "        style=\"border:none\" />\n",
              "     <output id=\"result-9b8c8978-e583-4a98-aa2c-764bce35c588\">\n",
              "      Upload widget is only available when the cell has been executed in the\n",
              "      current browser session. Please rerun this cell to enable.\n",
              "      </output>\n",
              "      <script>// Copyright 2017 Google LLC\n",
              "//\n",
              "// Licensed under the Apache License, Version 2.0 (the \"License\");\n",
              "// you may not use this file except in compliance with the License.\n",
              "// You may obtain a copy of the License at\n",
              "//\n",
              "//      http://www.apache.org/licenses/LICENSE-2.0\n",
              "//\n",
              "// Unless required by applicable law or agreed to in writing, software\n",
              "// distributed under the License is distributed on an \"AS IS\" BASIS,\n",
              "// WITHOUT WARRANTIES OR CONDITIONS OF ANY KIND, either express or implied.\n",
              "// See the License for the specific language governing permissions and\n",
              "// limitations under the License.\n",
              "\n",
              "/**\n",
              " * @fileoverview Helpers for google.colab Python module.\n",
              " */\n",
              "(function(scope) {\n",
              "function span(text, styleAttributes = {}) {\n",
              "  const element = document.createElement('span');\n",
              "  element.textContent = text;\n",
              "  for (const key of Object.keys(styleAttributes)) {\n",
              "    element.style[key] = styleAttributes[key];\n",
              "  }\n",
              "  return element;\n",
              "}\n",
              "\n",
              "// Max number of bytes which will be uploaded at a time.\n",
              "const MAX_PAYLOAD_SIZE = 100 * 1024;\n",
              "\n",
              "function _uploadFiles(inputId, outputId) {\n",
              "  const steps = uploadFilesStep(inputId, outputId);\n",
              "  const outputElement = document.getElementById(outputId);\n",
              "  // Cache steps on the outputElement to make it available for the next call\n",
              "  // to uploadFilesContinue from Python.\n",
              "  outputElement.steps = steps;\n",
              "\n",
              "  return _uploadFilesContinue(outputId);\n",
              "}\n",
              "\n",
              "// This is roughly an async generator (not supported in the browser yet),\n",
              "// where there are multiple asynchronous steps and the Python side is going\n",
              "// to poll for completion of each step.\n",
              "// This uses a Promise to block the python side on completion of each step,\n",
              "// then passes the result of the previous step as the input to the next step.\n",
              "function _uploadFilesContinue(outputId) {\n",
              "  const outputElement = document.getElementById(outputId);\n",
              "  const steps = outputElement.steps;\n",
              "\n",
              "  const next = steps.next(outputElement.lastPromiseValue);\n",
              "  return Promise.resolve(next.value.promise).then((value) => {\n",
              "    // Cache the last promise value to make it available to the next\n",
              "    // step of the generator.\n",
              "    outputElement.lastPromiseValue = value;\n",
              "    return next.value.response;\n",
              "  });\n",
              "}\n",
              "\n",
              "/**\n",
              " * Generator function which is called between each async step of the upload\n",
              " * process.\n",
              " * @param {string} inputId Element ID of the input file picker element.\n",
              " * @param {string} outputId Element ID of the output display.\n",
              " * @return {!Iterable<!Object>} Iterable of next steps.\n",
              " */\n",
              "function* uploadFilesStep(inputId, outputId) {\n",
              "  const inputElement = document.getElementById(inputId);\n",
              "  inputElement.disabled = false;\n",
              "\n",
              "  const outputElement = document.getElementById(outputId);\n",
              "  outputElement.innerHTML = '';\n",
              "\n",
              "  const pickedPromise = new Promise((resolve) => {\n",
              "    inputElement.addEventListener('change', (e) => {\n",
              "      resolve(e.target.files);\n",
              "    });\n",
              "  });\n",
              "\n",
              "  const cancel = document.createElement('button');\n",
              "  inputElement.parentElement.appendChild(cancel);\n",
              "  cancel.textContent = 'Cancel upload';\n",
              "  const cancelPromise = new Promise((resolve) => {\n",
              "    cancel.onclick = () => {\n",
              "      resolve(null);\n",
              "    };\n",
              "  });\n",
              "\n",
              "  // Wait for the user to pick the files.\n",
              "  const files = yield {\n",
              "    promise: Promise.race([pickedPromise, cancelPromise]),\n",
              "    response: {\n",
              "      action: 'starting',\n",
              "    }\n",
              "  };\n",
              "\n",
              "  cancel.remove();\n",
              "\n",
              "  // Disable the input element since further picks are not allowed.\n",
              "  inputElement.disabled = true;\n",
              "\n",
              "  if (!files) {\n",
              "    return {\n",
              "      response: {\n",
              "        action: 'complete',\n",
              "      }\n",
              "    };\n",
              "  }\n",
              "\n",
              "  for (const file of files) {\n",
              "    const li = document.createElement('li');\n",
              "    li.append(span(file.name, {fontWeight: 'bold'}));\n",
              "    li.append(span(\n",
              "        `(${file.type || 'n/a'}) - ${file.size} bytes, ` +\n",
              "        `last modified: ${\n",
              "            file.lastModifiedDate ? file.lastModifiedDate.toLocaleDateString() :\n",
              "                                    'n/a'} - `));\n",
              "    const percent = span('0% done');\n",
              "    li.appendChild(percent);\n",
              "\n",
              "    outputElement.appendChild(li);\n",
              "\n",
              "    const fileDataPromise = new Promise((resolve) => {\n",
              "      const reader = new FileReader();\n",
              "      reader.onload = (e) => {\n",
              "        resolve(e.target.result);\n",
              "      };\n",
              "      reader.readAsArrayBuffer(file);\n",
              "    });\n",
              "    // Wait for the data to be ready.\n",
              "    let fileData = yield {\n",
              "      promise: fileDataPromise,\n",
              "      response: {\n",
              "        action: 'continue',\n",
              "      }\n",
              "    };\n",
              "\n",
              "    // Use a chunked sending to avoid message size limits. See b/62115660.\n",
              "    let position = 0;\n",
              "    do {\n",
              "      const length = Math.min(fileData.byteLength - position, MAX_PAYLOAD_SIZE);\n",
              "      const chunk = new Uint8Array(fileData, position, length);\n",
              "      position += length;\n",
              "\n",
              "      const base64 = btoa(String.fromCharCode.apply(null, chunk));\n",
              "      yield {\n",
              "        response: {\n",
              "          action: 'append',\n",
              "          file: file.name,\n",
              "          data: base64,\n",
              "        },\n",
              "      };\n",
              "\n",
              "      let percentDone = fileData.byteLength === 0 ?\n",
              "          100 :\n",
              "          Math.round((position / fileData.byteLength) * 100);\n",
              "      percent.textContent = `${percentDone}% done`;\n",
              "\n",
              "    } while (position < fileData.byteLength);\n",
              "  }\n",
              "\n",
              "  // All done.\n",
              "  yield {\n",
              "    response: {\n",
              "      action: 'complete',\n",
              "    }\n",
              "  };\n",
              "}\n",
              "\n",
              "scope.google = scope.google || {};\n",
              "scope.google.colab = scope.google.colab || {};\n",
              "scope.google.colab._files = {\n",
              "  _uploadFiles,\n",
              "  _uploadFilesContinue,\n",
              "};\n",
              "})(self);\n",
              "</script> "
            ]
          },
          "metadata": {}
        },
        {
          "output_type": "stream",
          "name": "stdout",
          "text": [
            "Saving kaggle.json to kaggle.json\n"
          ]
        },
        {
          "output_type": "execute_result",
          "data": {
            "text/plain": [
              "{'kaggle.json': b'{\"username\":\"riccardotenuta0023\",\"key\":\"9fe14c68d229c6d70a59ac7ce2172410\"}'}"
            ]
          },
          "metadata": {},
          "execution_count": 1
        }
      ],
      "source": [
        "from google.colab import files\n",
        "files.upload()"
      ]
    },
    {
      "cell_type": "code",
      "source": [
        "!ls -lha kaggle.json\n",
        "!pip install -q kaggle # installing the kaggle package\n",
        "!mkdir -p ~/.kaggle # creating .kaggle folder where the key should be placed\n",
        "!cp kaggle.json ~/.kaggle/ # move the key to the folder\n",
        "!pwd # checking the present working directory"
      ],
      "metadata": {
        "colab": {
          "base_uri": "https://localhost:8080/"
        },
        "id": "sFF4rF4ovkGr",
        "outputId": "3f6362d0-1226-4b5e-98cb-8d6910568955"
      },
      "execution_count": null,
      "outputs": [
        {
          "output_type": "stream",
          "name": "stdout",
          "text": [
            "-rw-r--r-- 1 root root 74 Apr 17 19:34 kaggle.json\n",
            "/content\n"
          ]
        }
      ]
    },
    {
      "cell_type": "code",
      "source": [
        "!chmod 600 ~/.kaggle/kaggle.json"
      ],
      "metadata": {
        "id": "Gl_Cs-6ZwDlT"
      },
      "execution_count": null,
      "outputs": []
    },
    {
      "cell_type": "code",
      "source": [
        "!kaggle datasets download -d asaniczka/1-3m-linkedin-jobs-and-skills-2024 -p /content/drive/MyDrive/"
      ],
      "metadata": {
        "id": "426pxKgjy8sc",
        "colab": {
          "base_uri": "https://localhost:8080/"
        },
        "outputId": "934f5aac-644d-4b2d-829e-32d6dbb7439b"
      },
      "execution_count": null,
      "outputs": [
        {
          "output_type": "stream",
          "name": "stdout",
          "text": [
            "Downloading 1-3m-linkedin-jobs-and-skills-2024.zip to /content/drive/MyDrive\n",
            "100% 1.88G/1.88G [00:20<00:00, 125MB/s]\n",
            "100% 1.88G/1.88G [00:20<00:00, 97.0MB/s]\n"
          ]
        }
      ]
    },
    {
      "cell_type": "code",
      "source": [
        "!unzip /content/drive/MyDrive/1-3m-linkedin-jobs-and-skills-2024.zip -d /content/drive/MyDrive/"
      ],
      "metadata": {
        "colab": {
          "base_uri": "https://localhost:8080/"
        },
        "id": "LT79m_wuxPLp",
        "outputId": "dde25de1-dd99-4b98-8a18-49eafd4ee422"
      },
      "execution_count": null,
      "outputs": [
        {
          "output_type": "stream",
          "name": "stdout",
          "text": [
            "Archive:  /content/drive/MyDrive/1-3m-linkedin-jobs-and-skills-2024.zip\n",
            "  inflating: /content/drive/MyDrive/job_skills.csv  \n",
            "  inflating: /content/drive/MyDrive/job_summary.csv  \n",
            "  inflating: /content/drive/MyDrive/linkedin_job_postings.csv  \n"
          ]
        }
      ]
    },
    {
      "cell_type": "code",
      "source": [
        "import pandas as pd\n",
        "import numpy as np\n",
        "import os\n",
        "!pip install pyspark\n",
        "from pyspark.sql import SparkSession\n",
        "import pyspark"
      ],
      "metadata": {
        "id": "e2fH2lDmzG-M",
        "colab": {
          "base_uri": "https://localhost:8080/"
        },
        "outputId": "9c7515f8-a0de-4946-a87a-be74ec663be1"
      },
      "execution_count": null,
      "outputs": [
        {
          "output_type": "stream",
          "name": "stdout",
          "text": [
            "Collecting pyspark\n",
            "  Downloading pyspark-3.5.1.tar.gz (317.0 MB)\n",
            "\u001b[2K     \u001b[90m━━━━━━━━━━━━━━━━━━━━━━━━━━━━━━━━━━━━━━━━\u001b[0m \u001b[32m317.0/317.0 MB\u001b[0m \u001b[31m2.0 MB/s\u001b[0m eta \u001b[36m0:00:00\u001b[0m\n",
            "\u001b[?25h  Preparing metadata (setup.py) ... \u001b[?25l\u001b[?25hdone\n",
            "Requirement already satisfied: py4j==0.10.9.7 in /usr/local/lib/python3.10/dist-packages (from pyspark) (0.10.9.7)\n",
            "Building wheels for collected packages: pyspark\n",
            "  Building wheel for pyspark (setup.py) ... \u001b[?25l\u001b[?25hdone\n",
            "  Created wheel for pyspark: filename=pyspark-3.5.1-py2.py3-none-any.whl size=317488491 sha256=2660d8c2df03a4099359b7cdafb542ea40e873b0e1925b7e9de5a956c5fe799e\n",
            "  Stored in directory: /root/.cache/pip/wheels/80/1d/60/2c256ed38dddce2fdd93be545214a63e02fbd8d74fb0b7f3a6\n",
            "Successfully built pyspark\n",
            "Installing collected packages: pyspark\n",
            "Successfully installed pyspark-3.5.1\n"
          ]
        }
      ]
    },
    {
      "cell_type": "markdown",
      "source": [
        "## Data preparation"
      ],
      "metadata": {
        "id": "4B9hsnz7h0vI"
      }
    },
    {
      "cell_type": "code",
      "source": [
        "spark = SparkSession.builder.appName(\"linkedin_project_SON\").getOrCreate()"
      ],
      "metadata": {
        "id": "ox0vEju0qrU3"
      },
      "execution_count": null,
      "outputs": []
    },
    {
      "cell_type": "code",
      "source": [
        "# import of the csv and selecting only the job_skills column\n",
        "rdd_from_csv = spark.read.csv('./drive/MyDrive/job_skills.csv', header=True).dropna()\n",
        "rdd_from_csv = rdd_from_csv.select(rdd_from_csv['job_skills']).rdd"
      ],
      "metadata": {
        "id": "-DtH0w7NlV6n"
      },
      "execution_count": null,
      "outputs": []
    },
    {
      "cell_type": "code",
      "source": [
        "# splitting every basket to create the item list\n",
        "rdd_from_csv = rdd_from_csv.map(lambda basket: basket['job_skills'].split(', '))"
      ],
      "metadata": {
        "id": "yIE0WvpywYTj"
      },
      "execution_count": null,
      "outputs": []
    },
    {
      "cell_type": "code",
      "source": [
        "# example of the first two baskets\n",
        "rdd_from_csv.take(2)"
      ],
      "metadata": {
        "colab": {
          "base_uri": "https://localhost:8080/"
        },
        "id": "Eo7LiVai3UaA",
        "outputId": "700ae977-dcd8-4cca-cb49-e54ea27b7dec"
      },
      "execution_count": null,
      "outputs": [
        {
          "output_type": "execute_result",
          "data": {
            "text/plain": [
              "[['Building Custodial Services',\n",
              "  'Cleaning',\n",
              "  'Janitorial Services',\n",
              "  'Materials Handling',\n",
              "  'Housekeeping',\n",
              "  'Sanitation',\n",
              "  'Waste Management',\n",
              "  'Floor Maintenance',\n",
              "  'Equipment Maintenance',\n",
              "  'Safety Protocols',\n",
              "  'Communication Skills',\n",
              "  'Attention to Detail',\n",
              "  'Physical Strength',\n",
              "  'Experience in Housekeeping'],\n",
              " ['Customer service',\n",
              "  'Restaurant management',\n",
              "  'Food safety',\n",
              "  'Training',\n",
              "  'Supervision',\n",
              "  'Scheduling',\n",
              "  'Inventory',\n",
              "  'Cost control',\n",
              "  'Sales',\n",
              "  'Communication',\n",
              "  'Problemsolving',\n",
              "  'Leadership',\n",
              "  'Motivation',\n",
              "  'Teamwork',\n",
              "  'High School Diploma',\n",
              "  \"Bachelor's Degree\",\n",
              "  'ServSafe Certification',\n",
              "  \"Valid Driver's License\",\n",
              "  'Physical ability to perform job duties']]"
            ]
          },
          "metadata": {},
          "execution_count": 10
        }
      ]
    },
    {
      "cell_type": "code",
      "source": [
        "# sampling the 10% of the whole dataset to compute easily the SON algorithm\n",
        "rdd_son = rdd_from_csv.sample(withReplacement=False, fraction=0.10)\n",
        "rdd_son.count()\n"
      ],
      "metadata": {
        "id": "OlMYKyfVRmGA",
        "colab": {
          "base_uri": "https://localhost:8080/"
        },
        "outputId": "fdce18d1-6670-4f2a-df9c-fcd7c862a0fe"
      },
      "execution_count": null,
      "outputs": [
        {
          "output_type": "execute_result",
          "data": {
            "text/plain": [
              "130062"
            ]
          },
          "metadata": {},
          "execution_count": 13
        }
      ]
    },
    {
      "cell_type": "code",
      "source": [
        "initial_partitions = rdd_son.getNumPartitions()\n",
        "\"\"\"\n",
        "Spark suggests to use 2-4 partitions for each CPU on the machine, since running the algorithm only on a single machine\n",
        "I'll take this value from the cpu_count() function inside the multiprocessing library\n",
        "\n",
        "https://spark.apache.org/docs/latest/rdd-programming-guide.html#parallelized-collections\n",
        "\"\"\"\n",
        "from multiprocessing import cpu_count\n",
        "optimal_partitions = 4*cpu_count()\n",
        "\n",
        "rdd_son.repartition(numPartitions=optimal_partitions)\n",
        "\n",
        "print(f'Partitions before -> {initial_partitions}')\n",
        "print(f'Optimal partitions -> {optimal_partitions}')"
      ],
      "metadata": {
        "id": "PGX1iSc8Xd_K",
        "colab": {
          "base_uri": "https://localhost:8080/"
        },
        "outputId": "5074638c-9e4d-4e49-bad0-6c97c354370b"
      },
      "execution_count": null,
      "outputs": [
        {
          "output_type": "stream",
          "name": "stdout",
          "text": [
            "Partitions before -> 6\n",
            "Optimal partitions -> 8\n"
          ]
        }
      ]
    },
    {
      "cell_type": "code",
      "source": [
        "# define the support for each partition\n",
        "\n",
        "support_threshold = round(0.02*rdd_son.count())\n",
        "st_partition = round(support_threshold / rdd_son.getNumPartitions())\n",
        "\n",
        "print(f'Support threshold for each partition/chunk of data is {st_partition}')"
      ],
      "metadata": {
        "colab": {
          "base_uri": "https://localhost:8080/"
        },
        "id": "JZv_AQ01uGjF",
        "outputId": "2e87eb3d-76fb-4c36-dd06-a6bba8b14b9d"
      },
      "execution_count": null,
      "outputs": [
        {
          "output_type": "stream",
          "name": "stdout",
          "text": [
            "Support threshold for each partition/chunk of data is 434\n"
          ]
        }
      ]
    },
    {
      "cell_type": "code",
      "source": [
        "def first_pass(partition, support: int) -> list:\n",
        "\n",
        "  item_count = {}\n",
        "\n",
        "  for basket in partition:\n",
        "    for item in basket:\n",
        "      item_count[item] = item_count.get(item, 0) + 1\n",
        "\n",
        "  frequent_singleton = [(item, count) for item, count in item_count.items() if count >= support]\n",
        "\n",
        "  return sorted(frequent_singleton, key=lambda x: x[1], reverse=True)\n",
        "\n",
        "first_pass_rdd = rdd_son.mapPartitions(lambda partition: first_pass(partition, st_partition))"
      ],
      "metadata": {
        "id": "GR0a7V4rytt8"
      },
      "execution_count": null,
      "outputs": []
    },
    {
      "cell_type": "code",
      "source": [
        "def second_pass(partition, support: int) -> list:\n"
      ],
      "metadata": {
        "id": "ZrxyTJI2_wX-"
      },
      "execution_count": null,
      "outputs": []
    },
    {
      "cell_type": "code",
      "source": [
        "first_pass_rdd.take(10)"
      ],
      "metadata": {
        "colab": {
          "base_uri": "https://localhost:8080/"
        },
        "id": "-PHLLCT9sccd",
        "outputId": "640860d8-c2f3-4d9d-8ea5-bfe95e877454"
      },
      "execution_count": null,
      "outputs": [
        {
          "output_type": "execute_result",
          "data": {
            "text/plain": [
              "[('Communication', 6757),\n",
              " ('Teamwork', 4170),\n",
              " ('Leadership', 3284),\n",
              " ('Customer service', 2992),\n",
              " ('Communication skills', 2277),\n",
              " ('Customer Service', 1997),\n",
              " ('Problem Solving', 1896),\n",
              " ('Sales', 1709),\n",
              " ('Problemsolving', 1703),\n",
              " ('Project Management', 1618)]"
            ]
          },
          "metadata": {},
          "execution_count": 56
        }
      ]
    }
  ]
}