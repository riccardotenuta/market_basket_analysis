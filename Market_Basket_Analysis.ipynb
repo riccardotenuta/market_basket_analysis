{
  "cells": [
    {
      "cell_type": "markdown",
      "metadata": {
        "id": "view-in-github",
        "colab_type": "text"
      },
      "source": [
        "<a href=\"https://colab.research.google.com/github/riccardotenuta/market_basket_analysis/blob/main/Market_Basket_Analysis.ipynb\" target=\"_parent\"><img src=\"https://colab.research.google.com/assets/colab-badge.svg\" alt=\"Open In Colab\"/></a>"
      ]
    },
    {
      "cell_type": "markdown",
      "metadata": {
        "id": "0tMrYVtShWEv"
      },
      "source": [
        "# Import dataset from Kaggle"
      ]
    },
    {
      "cell_type": "code",
      "execution_count": 1,
      "metadata": {
        "colab": {
          "base_uri": "https://localhost:8080/",
          "height": 91
        },
        "id": "S3GmKOsou_27",
        "outputId": "94df234e-ae74-4dc6-b5ed-46dbe630ae1a"
      },
      "outputs": [
        {
          "output_type": "display_data",
          "data": {
            "text/plain": [
              "<IPython.core.display.HTML object>"
            ],
            "text/html": [
              "\n",
              "     <input type=\"file\" id=\"files-b530caaf-3a0a-4eb0-960c-7dec8659b3f0\" name=\"files[]\" multiple disabled\n",
              "        style=\"border:none\" />\n",
              "     <output id=\"result-b530caaf-3a0a-4eb0-960c-7dec8659b3f0\">\n",
              "      Upload widget is only available when the cell has been executed in the\n",
              "      current browser session. Please rerun this cell to enable.\n",
              "      </output>\n",
              "      <script>// Copyright 2017 Google LLC\n",
              "//\n",
              "// Licensed under the Apache License, Version 2.0 (the \"License\");\n",
              "// you may not use this file except in compliance with the License.\n",
              "// You may obtain a copy of the License at\n",
              "//\n",
              "//      http://www.apache.org/licenses/LICENSE-2.0\n",
              "//\n",
              "// Unless required by applicable law or agreed to in writing, software\n",
              "// distributed under the License is distributed on an \"AS IS\" BASIS,\n",
              "// WITHOUT WARRANTIES OR CONDITIONS OF ANY KIND, either express or implied.\n",
              "// See the License for the specific language governing permissions and\n",
              "// limitations under the License.\n",
              "\n",
              "/**\n",
              " * @fileoverview Helpers for google.colab Python module.\n",
              " */\n",
              "(function(scope) {\n",
              "function span(text, styleAttributes = {}) {\n",
              "  const element = document.createElement('span');\n",
              "  element.textContent = text;\n",
              "  for (const key of Object.keys(styleAttributes)) {\n",
              "    element.style[key] = styleAttributes[key];\n",
              "  }\n",
              "  return element;\n",
              "}\n",
              "\n",
              "// Max number of bytes which will be uploaded at a time.\n",
              "const MAX_PAYLOAD_SIZE = 100 * 1024;\n",
              "\n",
              "function _uploadFiles(inputId, outputId) {\n",
              "  const steps = uploadFilesStep(inputId, outputId);\n",
              "  const outputElement = document.getElementById(outputId);\n",
              "  // Cache steps on the outputElement to make it available for the next call\n",
              "  // to uploadFilesContinue from Python.\n",
              "  outputElement.steps = steps;\n",
              "\n",
              "  return _uploadFilesContinue(outputId);\n",
              "}\n",
              "\n",
              "// This is roughly an async generator (not supported in the browser yet),\n",
              "// where there are multiple asynchronous steps and the Python side is going\n",
              "// to poll for completion of each step.\n",
              "// This uses a Promise to block the python side on completion of each step,\n",
              "// then passes the result of the previous step as the input to the next step.\n",
              "function _uploadFilesContinue(outputId) {\n",
              "  const outputElement = document.getElementById(outputId);\n",
              "  const steps = outputElement.steps;\n",
              "\n",
              "  const next = steps.next(outputElement.lastPromiseValue);\n",
              "  return Promise.resolve(next.value.promise).then((value) => {\n",
              "    // Cache the last promise value to make it available to the next\n",
              "    // step of the generator.\n",
              "    outputElement.lastPromiseValue = value;\n",
              "    return next.value.response;\n",
              "  });\n",
              "}\n",
              "\n",
              "/**\n",
              " * Generator function which is called between each async step of the upload\n",
              " * process.\n",
              " * @param {string} inputId Element ID of the input file picker element.\n",
              " * @param {string} outputId Element ID of the output display.\n",
              " * @return {!Iterable<!Object>} Iterable of next steps.\n",
              " */\n",
              "function* uploadFilesStep(inputId, outputId) {\n",
              "  const inputElement = document.getElementById(inputId);\n",
              "  inputElement.disabled = false;\n",
              "\n",
              "  const outputElement = document.getElementById(outputId);\n",
              "  outputElement.innerHTML = '';\n",
              "\n",
              "  const pickedPromise = new Promise((resolve) => {\n",
              "    inputElement.addEventListener('change', (e) => {\n",
              "      resolve(e.target.files);\n",
              "    });\n",
              "  });\n",
              "\n",
              "  const cancel = document.createElement('button');\n",
              "  inputElement.parentElement.appendChild(cancel);\n",
              "  cancel.textContent = 'Cancel upload';\n",
              "  const cancelPromise = new Promise((resolve) => {\n",
              "    cancel.onclick = () => {\n",
              "      resolve(null);\n",
              "    };\n",
              "  });\n",
              "\n",
              "  // Wait for the user to pick the files.\n",
              "  const files = yield {\n",
              "    promise: Promise.race([pickedPromise, cancelPromise]),\n",
              "    response: {\n",
              "      action: 'starting',\n",
              "    }\n",
              "  };\n",
              "\n",
              "  cancel.remove();\n",
              "\n",
              "  // Disable the input element since further picks are not allowed.\n",
              "  inputElement.disabled = true;\n",
              "\n",
              "  if (!files) {\n",
              "    return {\n",
              "      response: {\n",
              "        action: 'complete',\n",
              "      }\n",
              "    };\n",
              "  }\n",
              "\n",
              "  for (const file of files) {\n",
              "    const li = document.createElement('li');\n",
              "    li.append(span(file.name, {fontWeight: 'bold'}));\n",
              "    li.append(span(\n",
              "        `(${file.type || 'n/a'}) - ${file.size} bytes, ` +\n",
              "        `last modified: ${\n",
              "            file.lastModifiedDate ? file.lastModifiedDate.toLocaleDateString() :\n",
              "                                    'n/a'} - `));\n",
              "    const percent = span('0% done');\n",
              "    li.appendChild(percent);\n",
              "\n",
              "    outputElement.appendChild(li);\n",
              "\n",
              "    const fileDataPromise = new Promise((resolve) => {\n",
              "      const reader = new FileReader();\n",
              "      reader.onload = (e) => {\n",
              "        resolve(e.target.result);\n",
              "      };\n",
              "      reader.readAsArrayBuffer(file);\n",
              "    });\n",
              "    // Wait for the data to be ready.\n",
              "    let fileData = yield {\n",
              "      promise: fileDataPromise,\n",
              "      response: {\n",
              "        action: 'continue',\n",
              "      }\n",
              "    };\n",
              "\n",
              "    // Use a chunked sending to avoid message size limits. See b/62115660.\n",
              "    let position = 0;\n",
              "    do {\n",
              "      const length = Math.min(fileData.byteLength - position, MAX_PAYLOAD_SIZE);\n",
              "      const chunk = new Uint8Array(fileData, position, length);\n",
              "      position += length;\n",
              "\n",
              "      const base64 = btoa(String.fromCharCode.apply(null, chunk));\n",
              "      yield {\n",
              "        response: {\n",
              "          action: 'append',\n",
              "          file: file.name,\n",
              "          data: base64,\n",
              "        },\n",
              "      };\n",
              "\n",
              "      let percentDone = fileData.byteLength === 0 ?\n",
              "          100 :\n",
              "          Math.round((position / fileData.byteLength) * 100);\n",
              "      percent.textContent = `${percentDone}% done`;\n",
              "\n",
              "    } while (position < fileData.byteLength);\n",
              "  }\n",
              "\n",
              "  // All done.\n",
              "  yield {\n",
              "    response: {\n",
              "      action: 'complete',\n",
              "    }\n",
              "  };\n",
              "}\n",
              "\n",
              "scope.google = scope.google || {};\n",
              "scope.google.colab = scope.google.colab || {};\n",
              "scope.google.colab._files = {\n",
              "  _uploadFiles,\n",
              "  _uploadFilesContinue,\n",
              "};\n",
              "})(self);\n",
              "</script> "
            ]
          },
          "metadata": {}
        },
        {
          "output_type": "stream",
          "name": "stdout",
          "text": [
            "Saving kaggle.json to kaggle.json\n"
          ]
        },
        {
          "output_type": "execute_result",
          "data": {
            "text/plain": [
              "{'kaggle.json': b'{\"username\":\"riccardotenuta0023\",\"key\":\"9fe14c68d229c6d70a59ac7ce2172410\"}'}"
            ]
          },
          "metadata": {},
          "execution_count": 1
        }
      ],
      "source": [
        "from google.colab import files\n",
        "files.upload()"
      ]
    },
    {
      "cell_type": "code",
      "execution_count": 2,
      "metadata": {
        "colab": {
          "base_uri": "https://localhost:8080/"
        },
        "id": "sFF4rF4ovkGr",
        "outputId": "e4ce1c4a-f4ce-44c8-d070-eac497480a60"
      },
      "outputs": [
        {
          "output_type": "stream",
          "name": "stdout",
          "text": [
            "-rw-r--r-- 1 root root 74 Apr 28 20:37 kaggle.json\n",
            "/content\n"
          ]
        }
      ],
      "source": [
        "!ls -lha kaggle.json\n",
        "!pip install -q kaggle # installing the kaggle package\n",
        "!mkdir -p ~/.kaggle # creating .kaggle folder where the key should be placed\n",
        "!cp kaggle.json ~/.kaggle/ # move the key to the folder\n",
        "!pwd # checking the present working directory"
      ]
    },
    {
      "cell_type": "code",
      "execution_count": 3,
      "metadata": {
        "id": "Gl_Cs-6ZwDlT"
      },
      "outputs": [],
      "source": [
        "!chmod 600 ~/.kaggle/kaggle.json"
      ]
    },
    {
      "cell_type": "code",
      "execution_count": 4,
      "metadata": {
        "colab": {
          "base_uri": "https://localhost:8080/"
        },
        "id": "426pxKgjy8sc",
        "outputId": "998cd0bd-7b8a-4664-a569-c53e62e629e1"
      },
      "outputs": [
        {
          "output_type": "stream",
          "name": "stdout",
          "text": [
            "Downloading 1-3m-linkedin-jobs-and-skills-2024.zip to /content/drive/MyDrive\n",
            " 99% 1.85G/1.88G [00:19<00:00, 70.2MB/s]\n",
            "100% 1.88G/1.88G [00:19<00:00, 104MB/s] \n"
          ]
        }
      ],
      "source": [
        "!kaggle datasets download -d asaniczka/1-3m-linkedin-jobs-and-skills-2024 -p /content/drive/MyDrive/"
      ]
    },
    {
      "cell_type": "code",
      "execution_count": 5,
      "metadata": {
        "colab": {
          "base_uri": "https://localhost:8080/"
        },
        "id": "LT79m_wuxPLp",
        "outputId": "d9a10064-b9c8-44ce-fb14-68f9be8b3a30"
      },
      "outputs": [
        {
          "output_type": "stream",
          "name": "stdout",
          "text": [
            "Archive:  /content/drive/MyDrive/1-3m-linkedin-jobs-and-skills-2024.zip\n",
            "  inflating: /content/drive/MyDrive/job_skills.csv  \n",
            "  inflating: /content/drive/MyDrive/job_summary.csv  \n",
            "  inflating: /content/drive/MyDrive/linkedin_job_postings.csv  \n"
          ]
        }
      ],
      "source": [
        "!unzip /content/drive/MyDrive/1-3m-linkedin-jobs-and-skills-2024.zip -d /content/drive/MyDrive/"
      ]
    },
    {
      "cell_type": "code",
      "execution_count": 6,
      "metadata": {
        "colab": {
          "base_uri": "https://localhost:8080/"
        },
        "id": "e2fH2lDmzG-M",
        "outputId": "95464e64-a98c-4764-95fe-92290e6e182d"
      },
      "outputs": [
        {
          "output_type": "stream",
          "name": "stdout",
          "text": [
            "Collecting pyspark\n",
            "  Downloading pyspark-3.5.1.tar.gz (317.0 MB)\n",
            "\u001b[2K     \u001b[90m━━━━━━━━━━━━━━━━━━━━━━━━━━━━━━━━━━━━━━━━\u001b[0m \u001b[32m317.0/317.0 MB\u001b[0m \u001b[31m3.0 MB/s\u001b[0m eta \u001b[36m0:00:00\u001b[0m\n",
            "\u001b[?25h  Preparing metadata (setup.py) ... \u001b[?25l\u001b[?25hdone\n",
            "Requirement already satisfied: py4j==0.10.9.7 in /usr/local/lib/python3.10/dist-packages (from pyspark) (0.10.9.7)\n",
            "Building wheels for collected packages: pyspark\n",
            "  Building wheel for pyspark (setup.py) ... \u001b[?25l\u001b[?25hdone\n",
            "  Created wheel for pyspark: filename=pyspark-3.5.1-py2.py3-none-any.whl size=317488491 sha256=4f1368c6c3c57e58c9583fdcfda8e0d18d39a68ca3d9c2981884bd8e12a77fa4\n",
            "  Stored in directory: /root/.cache/pip/wheels/80/1d/60/2c256ed38dddce2fdd93be545214a63e02fbd8d74fb0b7f3a6\n",
            "Successfully built pyspark\n",
            "Installing collected packages: pyspark\n",
            "Successfully installed pyspark-3.5.1\n"
          ]
        }
      ],
      "source": [
        "import pandas as pd\n",
        "import numpy as np\n",
        "import os\n",
        "!pip install pyspark\n",
        "from pyspark.sql import SparkSession\n",
        "import pyspark"
      ]
    },
    {
      "cell_type": "markdown",
      "metadata": {
        "id": "4B9hsnz7h0vI"
      },
      "source": [
        "## Data preparation"
      ]
    },
    {
      "cell_type": "code",
      "execution_count": 7,
      "metadata": {
        "id": "ox0vEju0qrU3"
      },
      "outputs": [],
      "source": [
        "spark = SparkSession.builder.appName(\"linkedin_project_SON\").getOrCreate()"
      ]
    },
    {
      "cell_type": "code",
      "execution_count": 8,
      "metadata": {
        "id": "-DtH0w7NlV6n"
      },
      "outputs": [],
      "source": [
        "# import of the csv and selecting only the job_skills column\n",
        "rdd_from_csv = spark.read.csv('./drive/MyDrive/job_skills.csv', header=True).dropna()\n",
        "rdd_from_csv = rdd_from_csv.select(rdd_from_csv['job_skills']).rdd"
      ]
    },
    {
      "cell_type": "code",
      "execution_count": 9,
      "metadata": {
        "id": "yIE0WvpywYTj"
      },
      "outputs": [],
      "source": [
        "# splitting every basket to create the item list\n",
        "rdd_from_csv = rdd_from_csv.map(lambda basket: basket['job_skills'].split(', '))"
      ]
    },
    {
      "cell_type": "code",
      "execution_count": 10,
      "metadata": {
        "colab": {
          "base_uri": "https://localhost:8080/"
        },
        "id": "Eo7LiVai3UaA",
        "outputId": "81542ccd-ad90-4941-d1a9-5a7416a2c2b3"
      },
      "outputs": [
        {
          "output_type": "execute_result",
          "data": {
            "text/plain": [
              "[['Building Custodial Services',\n",
              "  'Cleaning',\n",
              "  'Janitorial Services',\n",
              "  'Materials Handling',\n",
              "  'Housekeeping',\n",
              "  'Sanitation',\n",
              "  'Waste Management',\n",
              "  'Floor Maintenance',\n",
              "  'Equipment Maintenance',\n",
              "  'Safety Protocols',\n",
              "  'Communication Skills',\n",
              "  'Attention to Detail',\n",
              "  'Physical Strength',\n",
              "  'Experience in Housekeeping'],\n",
              " ['Customer service',\n",
              "  'Restaurant management',\n",
              "  'Food safety',\n",
              "  'Training',\n",
              "  'Supervision',\n",
              "  'Scheduling',\n",
              "  'Inventory',\n",
              "  'Cost control',\n",
              "  'Sales',\n",
              "  'Communication',\n",
              "  'Problemsolving',\n",
              "  'Leadership',\n",
              "  'Motivation',\n",
              "  'Teamwork',\n",
              "  'High School Diploma',\n",
              "  \"Bachelor's Degree\",\n",
              "  'ServSafe Certification',\n",
              "  \"Valid Driver's License\",\n",
              "  'Physical ability to perform job duties']]"
            ]
          },
          "metadata": {},
          "execution_count": 10
        }
      ],
      "source": [
        "# example of the first two baskets\n",
        "rdd_from_csv.take(2)"
      ]
    },
    {
      "cell_type": "code",
      "execution_count": 11,
      "metadata": {
        "colab": {
          "base_uri": "https://localhost:8080/"
        },
        "id": "OlMYKyfVRmGA",
        "outputId": "10d4bfa4-2b72-45d2-c54d-4be612bc2781"
      },
      "outputs": [
        {
          "output_type": "execute_result",
          "data": {
            "text/plain": [
              "12912"
            ]
          },
          "metadata": {},
          "execution_count": 11
        }
      ],
      "source": [
        "# sampling the 10% of the whole dataset to compute easily the SON algorithm\n",
        "rdd_son = rdd_from_csv.sample(withReplacement=False, fraction=0.01)\n",
        "num_baskets = rdd_son.count()\n",
        "num_baskets"
      ]
    },
    {
      "cell_type": "code",
      "execution_count": 12,
      "metadata": {
        "colab": {
          "base_uri": "https://localhost:8080/"
        },
        "id": "PGX1iSc8Xd_K",
        "outputId": "6f2a6704-5703-49d1-f36c-746305a9ff14"
      },
      "outputs": [
        {
          "output_type": "stream",
          "name": "stdout",
          "text": [
            "Partitions before -> 6\n",
            "Optimal partitions -> 8\n"
          ]
        }
      ],
      "source": [
        "initial_partitions = rdd_son.getNumPartitions()\n",
        "\"\"\"\n",
        "Spark suggests to use 2-4 partitions for each CPU on the machine, since running the algorithm only on a single machine\n",
        "I'll take this value from the cpu_count() function inside the multiprocessing library\n",
        "\n",
        "https://spark.apache.org/docs/latest/rdd-programming-guide.html#parallelized-collections\n",
        "\"\"\"\n",
        "from multiprocessing import cpu_count\n",
        "optimal_partitions = 4*cpu_count()\n",
        "\n",
        "rdd_son.repartition(numPartitions=optimal_partitions)\n",
        "\n",
        "print(f'Partitions before -> {initial_partitions}')\n",
        "print(f'Optimal partitions -> {optimal_partitions}')"
      ]
    },
    {
      "cell_type": "code",
      "execution_count": 13,
      "metadata": {
        "colab": {
          "base_uri": "https://localhost:8080/"
        },
        "id": "JZv_AQ01uGjF",
        "outputId": "f1717521-4b90-4f19-b5e1-7ce54fa95dda"
      },
      "outputs": [
        {
          "output_type": "stream",
          "name": "stdout",
          "text": [
            "Support threshold for each partition/chunk of data is 43\n"
          ]
        }
      ],
      "source": [
        "# define the support for each partition\n",
        "\n",
        "support_threshold = round(0.02*num_baskets)\n",
        "st_partition = round(support_threshold / rdd_son.getNumPartitions())\n",
        "\n",
        "print(f'Support threshold for each partition/chunk of data is {st_partition}')"
      ]
    },
    {
      "cell_type": "code",
      "execution_count": 14,
      "metadata": {
        "id": "GR0a7V4rytt8"
      },
      "outputs": [],
      "source": [
        "def first_pass(partition, support: int) -> list:\n",
        "\n",
        "  item_count = {}\n",
        "\n",
        "  for basket in partition:\n",
        "    for item in basket:\n",
        "      item_count[item] = item_count.get(item, 0) + 1\n",
        "\n",
        "  frequent_singleton = [(item, count) for item, count in item_count.items() if count >= support]\n",
        "\n",
        "  return sorted(frequent_singleton, key=lambda x: x[1], reverse=True)\n",
        "\n",
        "first_pass_rdd = rdd_son.mapPartitions(lambda partition: first_pass(partition, st_partition))"
      ]
    },
    {
      "cell_type": "code",
      "execution_count": 15,
      "metadata": {
        "colab": {
          "base_uri": "https://localhost:8080/"
        },
        "id": "R6jsQXJvji5l",
        "outputId": "eaeeedc9-2aef-4f1e-c54f-c44745ccf07c"
      },
      "outputs": [
        {
          "output_type": "execute_result",
          "data": {
            "text/plain": [
              "[('Communication', 605),\n",
              " ('Teamwork', 400),\n",
              " ('Leadership', 296),\n",
              " ('Customer service', 282),\n",
              " ('Communication skills', 205),\n",
              " ('Customer Service', 184),\n",
              " ('Problem Solving', 172),\n",
              " ('Collaboration', 166),\n",
              " ('Training', 161),\n",
              " ('Problemsolving', 161)]"
            ]
          },
          "metadata": {},
          "execution_count": 15
        }
      ],
      "source": [
        "first_pass_rdd.take(10)"
      ]
    },
    {
      "cell_type": "code",
      "execution_count": 16,
      "metadata": {
        "colab": {
          "base_uri": "https://localhost:8080/"
        },
        "id": "6jk2NnFEDy1Q",
        "outputId": "8bc80ec1-1fb4-4395-e71c-0be9f174ea55"
      },
      "outputs": [
        {
          "output_type": "execute_result",
          "data": {
            "text/plain": [
              "['Communication',\n",
              " 'Teamwork',\n",
              " 'Leadership',\n",
              " 'Customer service',\n",
              " 'Communication skills',\n",
              " 'Customer Service',\n",
              " 'Problem Solving',\n",
              " 'Collaboration',\n",
              " 'Training',\n",
              " 'Problemsolving']"
            ]
          },
          "metadata": {},
          "execution_count": 16
        }
      ],
      "source": [
        "frequent_singleton = first_pass_rdd.map(lambda item: item[0]).collect()\n",
        "frequent_singleton[:10]"
      ]
    },
    {
      "cell_type": "code",
      "execution_count": 17,
      "metadata": {
        "id": "ZrxyTJI2_wX-"
      },
      "outputs": [],
      "source": [
        "from itertools import combinations\n",
        "\n",
        "def second_pass(partition, support: int) -> list:\n",
        "\n",
        "  couples_count = {}\n",
        "\n",
        "  for basket in partition:\n",
        "    candidate_couples = list(combinations(basket, 2))\n",
        "    for c in candidate_couples:\n",
        "\n",
        "      if all(x in frequent_singleton for x in c):\n",
        "          couples_count[c] = couples_count.get(c, 0) + 1\n",
        "\n",
        "  frequent_couples = [(couple, count) for couple, count in couples_count.items() if count >= support]\n",
        "  return sorted(frequent_couples, reverse=True, key=lambda x: x[1])\n",
        "\n",
        "second_pass_rdd = rdd_son.mapPartitions(lambda partition: second_pass(partition, st_partition))"
      ]
    },
    {
      "cell_type": "code",
      "execution_count": 18,
      "metadata": {
        "colab": {
          "base_uri": "https://localhost:8080/"
        },
        "id": "sbsvpONjCMJT",
        "outputId": "ecdda561-ae97-45ba-ffaf-f10070ea3ff1"
      },
      "outputs": [
        {
          "output_type": "execute_result",
          "data": {
            "text/plain": [
              "[(('Communication', 'Teamwork'), 186),\n",
              " (('Communication', 'Problemsolving'), 102),\n",
              " (('Leadership', 'Communication'), 95),\n",
              " (('Customer service', 'Teamwork'), 93),\n",
              " (('Customer service', 'Communication'), 91),\n",
              " (('Communication', 'Leadership'), 90),\n",
              " (('Communication', 'Problem Solving'), 77),\n",
              " (('Communication', 'Attention to detail'), 71),\n",
              " (('Leadership', 'Teamwork'), 70),\n",
              " (('Communication', 'Collaboration'), 69)]"
            ]
          },
          "metadata": {},
          "execution_count": 18
        }
      ],
      "source": [
        "second_pass_rdd.take(10)"
      ]
    },
    {
      "cell_type": "code",
      "source": [
        "frequent_couples = second_pass_rdd.collect()"
      ],
      "metadata": {
        "id": "Ti1M0F_HtAEU"
      },
      "execution_count": 35,
      "outputs": []
    },
    {
      "cell_type": "code",
      "execution_count": 19,
      "metadata": {
        "id": "0GN3fwqCoh4q"
      },
      "outputs": [],
      "source": [
        "def get_frequent_itemset(partition, support, frequent_itemset, n_pass):\n",
        "\n",
        "  item_set_count = {}\n",
        "  for basket in partition:\n",
        "\n",
        "    candidate_itemset = list(combinations(basket, n_pass))\n",
        "    for c in candidate_itemset:\n",
        "\n",
        "      if n_pass > 2: subset = list(combinations(c, n_pass-1))\n",
        "      else: subset = c\n",
        "\n",
        "      # check if all the item of the candidate set are in the basket and if its subsets are contained in the previous frequent itemsets\n",
        "      if all(x in frequent_itemset for x in subset):\n",
        "        item_set_count[c] = item_set_count.get(c, 0) + 1\n",
        "\n",
        "  new_frequent_itemset = [(itemset, count) for itemset, count in item_set_count.items() if count >= support]\n",
        "\n",
        "  return sorted(new_frequent_itemset, reverse=True, key=lambda x: x[1])\n"
      ]
    },
    {
      "cell_type": "code",
      "execution_count": 31,
      "metadata": {
        "colab": {
          "base_uri": "https://localhost:8080/",
          "height": 683
        },
        "id": "aUNFug_bjqCB",
        "outputId": "289fc99d-9beb-4626-96e7-ca582b828181"
      },
      "outputs": [
        {
          "output_type": "stream",
          "name": "stdout",
          "text": [
            "Pass 1\n",
            "[('Communication', 605), ('Teamwork', 400), ('Leadership', 296), ('Customer service', 282), ('Communication skills', 205), ('Customer Service', 184), ('Problem Solving', 172), ('Collaboration', 166), ('Training', 161), ('Problemsolving', 161)]\n",
            "Pass 2\n",
            "[(('Communication', 'Teamwork'), 186), (('Communication', 'Problemsolving'), 102), (('Leadership', 'Communication'), 95), (('Customer service', 'Teamwork'), 93), (('Customer service', 'Communication'), 91), (('Communication', 'Leadership'), 90), (('Communication', 'Problem Solving'), 77), (('Communication', 'Attention to detail'), 71), (('Leadership', 'Teamwork'), 70), (('Communication', 'Collaboration'), 69)]\n",
            "Pass 3\n",
            "[(('Customer service', 'Communication', 'Problemsolving'), 60), (('Customer service', 'Communication', 'Teamwork'), 48), (('Customer service', 'Communication', 'Teamwork'), 58), (('Customer service', 'Communication', 'Problemsolving'), 44), (('Leadership', 'Communication', 'Teamwork'), 43), (('Leadership', 'Communication', 'Teamwork'), 50), (('Customer service', 'Communication', 'Teamwork'), 49), (('Customer service', 'Communication', 'Problemsolving'), 45)]\n",
            "Pass 4\n"
          ]
        },
        {
          "output_type": "stream",
          "name": "stderr",
          "text": [
            "ERROR:root:KeyboardInterrupt while sending command.\n",
            "Traceback (most recent call last):\n",
            "  File \"/usr/local/lib/python3.10/dist-packages/py4j/java_gateway.py\", line 1038, in send_command\n",
            "    response = connection.send_command(command)\n",
            "  File \"/usr/local/lib/python3.10/dist-packages/py4j/clientserver.py\", line 511, in send_command\n",
            "    answer = smart_decode(self.stream.readline()[:-1])\n",
            "  File \"/usr/lib/python3.10/socket.py\", line 705, in readinto\n",
            "    return self._sock.recv_into(b)\n",
            "KeyboardInterrupt\n"
          ]
        },
        {
          "output_type": "error",
          "ename": "KeyboardInterrupt",
          "evalue": "",
          "traceback": [
            "\u001b[0;31m---------------------------------------------------------------------------\u001b[0m",
            "\u001b[0;31mKeyboardInterrupt\u001b[0m                         Traceback (most recent call last)",
            "\u001b[0;32m<ipython-input-31-4673b4e7024c>\u001b[0m in \u001b[0;36m<cell line: 13>\u001b[0;34m()\u001b[0m\n\u001b[1;32m     16\u001b[0m \u001b[0;34m\u001b[0m\u001b[0m\n\u001b[1;32m     17\u001b[0m   \u001b[0mprint\u001b[0m\u001b[0;34m(\u001b[0m\u001b[0;34mf'Pass {n_pass}'\u001b[0m\u001b[0;34m)\u001b[0m\u001b[0;34m\u001b[0m\u001b[0;34m\u001b[0m\u001b[0m\n\u001b[0;32m---> 18\u001b[0;31m   \u001b[0;32mif\u001b[0m \u001b[0;32mnot\u001b[0m \u001b[0mrdd_frequent_itemset\u001b[0m\u001b[0;34m.\u001b[0m\u001b[0misEmpty\u001b[0m\u001b[0;34m(\u001b[0m\u001b[0;34m)\u001b[0m\u001b[0;34m:\u001b[0m\u001b[0;34m\u001b[0m\u001b[0;34m\u001b[0m\u001b[0m\n\u001b[0m\u001b[1;32m     19\u001b[0m     \u001b[0mprint\u001b[0m\u001b[0;34m(\u001b[0m\u001b[0mrdd_frequent_itemset\u001b[0m\u001b[0;34m.\u001b[0m\u001b[0mtake\u001b[0m\u001b[0;34m(\u001b[0m\u001b[0;36m10\u001b[0m\u001b[0;34m)\u001b[0m\u001b[0;34m)\u001b[0m\u001b[0;34m\u001b[0m\u001b[0;34m\u001b[0m\u001b[0m\n\u001b[1;32m     20\u001b[0m     \u001b[0mfrequent_itemset_support\u001b[0m \u001b[0;34m=\u001b[0m \u001b[0mrdd_frequent_itemset\u001b[0m\u001b[0;34m.\u001b[0m\u001b[0mcollect\u001b[0m\u001b[0;34m(\u001b[0m\u001b[0;34m)\u001b[0m\u001b[0;34m\u001b[0m\u001b[0;34m\u001b[0m\u001b[0m\n",
            "\u001b[0;32m/usr/local/lib/python3.10/dist-packages/pyspark/rdd.py\u001b[0m in \u001b[0;36misEmpty\u001b[0;34m(self)\u001b[0m\n\u001b[1;32m   2918\u001b[0m         \u001b[0;32mFalse\u001b[0m\u001b[0;34m\u001b[0m\u001b[0;34m\u001b[0m\u001b[0m\n\u001b[1;32m   2919\u001b[0m         \"\"\"\n\u001b[0;32m-> 2920\u001b[0;31m         \u001b[0;32mreturn\u001b[0m \u001b[0mself\u001b[0m\u001b[0;34m.\u001b[0m\u001b[0mgetNumPartitions\u001b[0m\u001b[0;34m(\u001b[0m\u001b[0;34m)\u001b[0m \u001b[0;34m==\u001b[0m \u001b[0;36m0\u001b[0m \u001b[0;32mor\u001b[0m \u001b[0mlen\u001b[0m\u001b[0;34m(\u001b[0m\u001b[0mself\u001b[0m\u001b[0;34m.\u001b[0m\u001b[0mtake\u001b[0m\u001b[0;34m(\u001b[0m\u001b[0;36m1\u001b[0m\u001b[0;34m)\u001b[0m\u001b[0;34m)\u001b[0m \u001b[0;34m==\u001b[0m \u001b[0;36m0\u001b[0m\u001b[0;34m\u001b[0m\u001b[0;34m\u001b[0m\u001b[0m\n\u001b[0m\u001b[1;32m   2921\u001b[0m \u001b[0;34m\u001b[0m\u001b[0m\n\u001b[1;32m   2922\u001b[0m     def saveAsNewAPIHadoopDataset(\n",
            "\u001b[0;32m/usr/local/lib/python3.10/dist-packages/pyspark/rdd.py\u001b[0m in \u001b[0;36mtake\u001b[0;34m(self, num)\u001b[0m\n\u001b[1;32m   2853\u001b[0m \u001b[0;34m\u001b[0m\u001b[0m\n\u001b[1;32m   2854\u001b[0m             \u001b[0mp\u001b[0m \u001b[0;34m=\u001b[0m \u001b[0mrange\u001b[0m\u001b[0;34m(\u001b[0m\u001b[0mpartsScanned\u001b[0m\u001b[0;34m,\u001b[0m \u001b[0mmin\u001b[0m\u001b[0;34m(\u001b[0m\u001b[0mpartsScanned\u001b[0m \u001b[0;34m+\u001b[0m \u001b[0mnumPartsToTry\u001b[0m\u001b[0;34m,\u001b[0m \u001b[0mtotalParts\u001b[0m\u001b[0;34m)\u001b[0m\u001b[0;34m)\u001b[0m\u001b[0;34m\u001b[0m\u001b[0;34m\u001b[0m\u001b[0m\n\u001b[0;32m-> 2855\u001b[0;31m             \u001b[0mres\u001b[0m \u001b[0;34m=\u001b[0m \u001b[0mself\u001b[0m\u001b[0;34m.\u001b[0m\u001b[0mcontext\u001b[0m\u001b[0;34m.\u001b[0m\u001b[0mrunJob\u001b[0m\u001b[0;34m(\u001b[0m\u001b[0mself\u001b[0m\u001b[0;34m,\u001b[0m \u001b[0mtakeUpToNumLeft\u001b[0m\u001b[0;34m,\u001b[0m \u001b[0mp\u001b[0m\u001b[0;34m)\u001b[0m\u001b[0;34m\u001b[0m\u001b[0;34m\u001b[0m\u001b[0m\n\u001b[0m\u001b[1;32m   2856\u001b[0m \u001b[0;34m\u001b[0m\u001b[0m\n\u001b[1;32m   2857\u001b[0m             \u001b[0mitems\u001b[0m \u001b[0;34m+=\u001b[0m \u001b[0mres\u001b[0m\u001b[0;34m\u001b[0m\u001b[0;34m\u001b[0m\u001b[0m\n",
            "\u001b[0;32m/usr/local/lib/python3.10/dist-packages/pyspark/context.py\u001b[0m in \u001b[0;36mrunJob\u001b[0;34m(self, rdd, partitionFunc, partitions, allowLocal)\u001b[0m\n\u001b[1;32m   2508\u001b[0m         \u001b[0mmappedRDD\u001b[0m \u001b[0;34m=\u001b[0m \u001b[0mrdd\u001b[0m\u001b[0;34m.\u001b[0m\u001b[0mmapPartitions\u001b[0m\u001b[0;34m(\u001b[0m\u001b[0mpartitionFunc\u001b[0m\u001b[0;34m)\u001b[0m\u001b[0;34m\u001b[0m\u001b[0;34m\u001b[0m\u001b[0m\n\u001b[1;32m   2509\u001b[0m         \u001b[0;32massert\u001b[0m \u001b[0mself\u001b[0m\u001b[0;34m.\u001b[0m\u001b[0m_jvm\u001b[0m \u001b[0;32mis\u001b[0m \u001b[0;32mnot\u001b[0m \u001b[0;32mNone\u001b[0m\u001b[0;34m\u001b[0m\u001b[0;34m\u001b[0m\u001b[0m\n\u001b[0;32m-> 2510\u001b[0;31m         \u001b[0msock_info\u001b[0m \u001b[0;34m=\u001b[0m \u001b[0mself\u001b[0m\u001b[0;34m.\u001b[0m\u001b[0m_jvm\u001b[0m\u001b[0;34m.\u001b[0m\u001b[0mPythonRDD\u001b[0m\u001b[0;34m.\u001b[0m\u001b[0mrunJob\u001b[0m\u001b[0;34m(\u001b[0m\u001b[0mself\u001b[0m\u001b[0;34m.\u001b[0m\u001b[0m_jsc\u001b[0m\u001b[0;34m.\u001b[0m\u001b[0msc\u001b[0m\u001b[0;34m(\u001b[0m\u001b[0;34m)\u001b[0m\u001b[0;34m,\u001b[0m \u001b[0mmappedRDD\u001b[0m\u001b[0;34m.\u001b[0m\u001b[0m_jrdd\u001b[0m\u001b[0;34m,\u001b[0m \u001b[0mpartitions\u001b[0m\u001b[0;34m)\u001b[0m\u001b[0;34m\u001b[0m\u001b[0;34m\u001b[0m\u001b[0m\n\u001b[0m\u001b[1;32m   2511\u001b[0m         \u001b[0;32mreturn\u001b[0m \u001b[0mlist\u001b[0m\u001b[0;34m(\u001b[0m\u001b[0m_load_from_socket\u001b[0m\u001b[0;34m(\u001b[0m\u001b[0msock_info\u001b[0m\u001b[0;34m,\u001b[0m \u001b[0mmappedRDD\u001b[0m\u001b[0;34m.\u001b[0m\u001b[0m_jrdd_deserializer\u001b[0m\u001b[0;34m)\u001b[0m\u001b[0;34m)\u001b[0m\u001b[0;34m\u001b[0m\u001b[0;34m\u001b[0m\u001b[0m\n\u001b[1;32m   2512\u001b[0m \u001b[0;34m\u001b[0m\u001b[0m\n",
            "\u001b[0;32m/usr/local/lib/python3.10/dist-packages/py4j/java_gateway.py\u001b[0m in \u001b[0;36m__call__\u001b[0;34m(self, *args)\u001b[0m\n\u001b[1;32m   1319\u001b[0m             \u001b[0mproto\u001b[0m\u001b[0;34m.\u001b[0m\u001b[0mEND_COMMAND_PART\u001b[0m\u001b[0;34m\u001b[0m\u001b[0;34m\u001b[0m\u001b[0m\n\u001b[1;32m   1320\u001b[0m \u001b[0;34m\u001b[0m\u001b[0m\n\u001b[0;32m-> 1321\u001b[0;31m         \u001b[0manswer\u001b[0m \u001b[0;34m=\u001b[0m \u001b[0mself\u001b[0m\u001b[0;34m.\u001b[0m\u001b[0mgateway_client\u001b[0m\u001b[0;34m.\u001b[0m\u001b[0msend_command\u001b[0m\u001b[0;34m(\u001b[0m\u001b[0mcommand\u001b[0m\u001b[0;34m)\u001b[0m\u001b[0;34m\u001b[0m\u001b[0;34m\u001b[0m\u001b[0m\n\u001b[0m\u001b[1;32m   1322\u001b[0m         return_value = get_return_value(\n\u001b[1;32m   1323\u001b[0m             answer, self.gateway_client, self.target_id, self.name)\n",
            "\u001b[0;32m/usr/local/lib/python3.10/dist-packages/py4j/java_gateway.py\u001b[0m in \u001b[0;36msend_command\u001b[0;34m(self, command, retry, binary)\u001b[0m\n\u001b[1;32m   1036\u001b[0m         \u001b[0mconnection\u001b[0m \u001b[0;34m=\u001b[0m \u001b[0mself\u001b[0m\u001b[0;34m.\u001b[0m\u001b[0m_get_connection\u001b[0m\u001b[0;34m(\u001b[0m\u001b[0;34m)\u001b[0m\u001b[0;34m\u001b[0m\u001b[0;34m\u001b[0m\u001b[0m\n\u001b[1;32m   1037\u001b[0m         \u001b[0;32mtry\u001b[0m\u001b[0;34m:\u001b[0m\u001b[0;34m\u001b[0m\u001b[0;34m\u001b[0m\u001b[0m\n\u001b[0;32m-> 1038\u001b[0;31m             \u001b[0mresponse\u001b[0m \u001b[0;34m=\u001b[0m \u001b[0mconnection\u001b[0m\u001b[0;34m.\u001b[0m\u001b[0msend_command\u001b[0m\u001b[0;34m(\u001b[0m\u001b[0mcommand\u001b[0m\u001b[0;34m)\u001b[0m\u001b[0;34m\u001b[0m\u001b[0;34m\u001b[0m\u001b[0m\n\u001b[0m\u001b[1;32m   1039\u001b[0m             \u001b[0;32mif\u001b[0m \u001b[0mbinary\u001b[0m\u001b[0;34m:\u001b[0m\u001b[0;34m\u001b[0m\u001b[0;34m\u001b[0m\u001b[0m\n\u001b[1;32m   1040\u001b[0m                 \u001b[0;32mreturn\u001b[0m \u001b[0mresponse\u001b[0m\u001b[0;34m,\u001b[0m \u001b[0mself\u001b[0m\u001b[0;34m.\u001b[0m\u001b[0m_create_connection_guard\u001b[0m\u001b[0;34m(\u001b[0m\u001b[0mconnection\u001b[0m\u001b[0;34m)\u001b[0m\u001b[0;34m\u001b[0m\u001b[0;34m\u001b[0m\u001b[0m\n",
            "\u001b[0;32m/usr/local/lib/python3.10/dist-packages/py4j/clientserver.py\u001b[0m in \u001b[0;36msend_command\u001b[0;34m(self, command)\u001b[0m\n\u001b[1;32m    509\u001b[0m         \u001b[0;32mtry\u001b[0m\u001b[0;34m:\u001b[0m\u001b[0;34m\u001b[0m\u001b[0;34m\u001b[0m\u001b[0m\n\u001b[1;32m    510\u001b[0m             \u001b[0;32mwhile\u001b[0m \u001b[0;32mTrue\u001b[0m\u001b[0;34m:\u001b[0m\u001b[0;34m\u001b[0m\u001b[0;34m\u001b[0m\u001b[0m\n\u001b[0;32m--> 511\u001b[0;31m                 \u001b[0manswer\u001b[0m \u001b[0;34m=\u001b[0m \u001b[0msmart_decode\u001b[0m\u001b[0;34m(\u001b[0m\u001b[0mself\u001b[0m\u001b[0;34m.\u001b[0m\u001b[0mstream\u001b[0m\u001b[0;34m.\u001b[0m\u001b[0mreadline\u001b[0m\u001b[0;34m(\u001b[0m\u001b[0;34m)\u001b[0m\u001b[0;34m[\u001b[0m\u001b[0;34m:\u001b[0m\u001b[0;34m-\u001b[0m\u001b[0;36m1\u001b[0m\u001b[0;34m]\u001b[0m\u001b[0;34m)\u001b[0m\u001b[0;34m\u001b[0m\u001b[0;34m\u001b[0m\u001b[0m\n\u001b[0m\u001b[1;32m    512\u001b[0m                 \u001b[0mlogger\u001b[0m\u001b[0;34m.\u001b[0m\u001b[0mdebug\u001b[0m\u001b[0;34m(\u001b[0m\u001b[0;34m\"Answer received: {0}\"\u001b[0m\u001b[0;34m.\u001b[0m\u001b[0mformat\u001b[0m\u001b[0;34m(\u001b[0m\u001b[0manswer\u001b[0m\u001b[0;34m)\u001b[0m\u001b[0;34m)\u001b[0m\u001b[0;34m\u001b[0m\u001b[0;34m\u001b[0m\u001b[0m\n\u001b[1;32m    513\u001b[0m                 \u001b[0;31m# Happens when a the other end is dead. There might be an empty\u001b[0m\u001b[0;34m\u001b[0m\u001b[0;34m\u001b[0m\u001b[0m\n",
            "\u001b[0;32m/usr/lib/python3.10/socket.py\u001b[0m in \u001b[0;36mreadinto\u001b[0;34m(self, b)\u001b[0m\n\u001b[1;32m    703\u001b[0m         \u001b[0;32mwhile\u001b[0m \u001b[0;32mTrue\u001b[0m\u001b[0;34m:\u001b[0m\u001b[0;34m\u001b[0m\u001b[0;34m\u001b[0m\u001b[0m\n\u001b[1;32m    704\u001b[0m             \u001b[0;32mtry\u001b[0m\u001b[0;34m:\u001b[0m\u001b[0;34m\u001b[0m\u001b[0;34m\u001b[0m\u001b[0m\n\u001b[0;32m--> 705\u001b[0;31m                 \u001b[0;32mreturn\u001b[0m \u001b[0mself\u001b[0m\u001b[0;34m.\u001b[0m\u001b[0m_sock\u001b[0m\u001b[0;34m.\u001b[0m\u001b[0mrecv_into\u001b[0m\u001b[0;34m(\u001b[0m\u001b[0mb\u001b[0m\u001b[0;34m)\u001b[0m\u001b[0;34m\u001b[0m\u001b[0;34m\u001b[0m\u001b[0m\n\u001b[0m\u001b[1;32m    706\u001b[0m             \u001b[0;32mexcept\u001b[0m \u001b[0mtimeout\u001b[0m\u001b[0;34m:\u001b[0m\u001b[0;34m\u001b[0m\u001b[0;34m\u001b[0m\u001b[0m\n\u001b[1;32m    707\u001b[0m                 \u001b[0mself\u001b[0m\u001b[0;34m.\u001b[0m\u001b[0m_timeout_occurred\u001b[0m \u001b[0;34m=\u001b[0m \u001b[0;32mTrue\u001b[0m\u001b[0;34m\u001b[0m\u001b[0;34m\u001b[0m\u001b[0m\n",
            "\u001b[0;31mKeyboardInterrupt\u001b[0m: "
          ]
        }
      ],
      "source": [
        "# get frequent singleton\n",
        "\n",
        "n_pass = 1\n",
        "\n",
        "rdd_frequent_itemset = rdd_son.mapPartitions(lambda partition: first_pass(partition, st_partition))\n",
        "print(f'Pass {n_pass}')\n",
        "print(rdd_frequent_itemset.take(10))\n",
        "\n",
        "frequent_itemset = rdd_frequent_itemset.map(lambda item: item[0]).collect()\n",
        "frequent_itemset_len = rdd_frequent_itemset.count()\n",
        "n_pass = 2\n",
        "\n",
        "while len(frequent_itemset) > 0:\n",
        "\n",
        "  rdd_frequent_itemset = rdd_son.mapPartitions(lambda partition: get_frequent_itemset(partition, st_partition, set(frequent_itemset), n_pass))\n",
        "\n",
        "  print(f'Pass {n_pass}')\n",
        "  if not rdd_frequent_itemset.isEmpty():\n",
        "    print(rdd_frequent_itemset.take(10))\n",
        "    frequent_itemset_support = rdd_frequent_itemset.collect()\n",
        "    n_pass += 1\n",
        "\n",
        "  frequent_itemset = [itemset[0] for itemset in frequent_itemset_support]\n",
        "\n"
      ]
    },
    {
      "cell_type": "code",
      "source": [
        "frequent_itemset_support[:10]"
      ],
      "metadata": {
        "colab": {
          "base_uri": "https://localhost:8080/"
        },
        "id": "9un3cnSnnLq1",
        "outputId": "db8fe8f7-48f6-4efa-96b2-4ef7da549b36"
      },
      "execution_count": 32,
      "outputs": [
        {
          "output_type": "execute_result",
          "data": {
            "text/plain": [
              "[(('Customer service', 'Communication', 'Problemsolving'), 60),\n",
              " (('Customer service', 'Communication', 'Teamwork'), 48),\n",
              " (('Customer service', 'Communication', 'Teamwork'), 58),\n",
              " (('Customer service', 'Communication', 'Problemsolving'), 44),\n",
              " (('Leadership', 'Communication', 'Teamwork'), 43),\n",
              " (('Leadership', 'Communication', 'Teamwork'), 50),\n",
              " (('Customer service', 'Communication', 'Teamwork'), 49),\n",
              " (('Customer service', 'Communication', 'Problemsolving'), 45)]"
            ]
          },
          "metadata": {},
          "execution_count": 32
        }
      ]
    },
    {
      "cell_type": "code",
      "source": [
        "def get_couples_support(couple, frequent_couples):\n",
        "  for c in frequent_couples:\n",
        "    if list(c[0]) == couple:\n",
        "      return c[1]"
      ],
      "metadata": {
        "id": "z6Lwa6dwlYOF"
      },
      "execution_count": 71,
      "outputs": []
    },
    {
      "cell_type": "code",
      "source": [
        "def compute_association_rules(frequent_itemset_support, frequent_couples):\n",
        "  for frequent_itemset in frequent_itemset_support[:5]:\n",
        "    for item in frequent_itemset[0]:\n",
        "      fi = list(frequent_itemset[0])\n",
        "\n",
        "      fi.remove(item)\n",
        "      couple_support = get_couples_support(fi, frequent_couples)\n",
        "      support_with_item = frequent_itemset[1]\n",
        "\n",
        "      confidence = round((support_with_item / couple_support)*100, 1)\n",
        "\n",
        "      print(f'{fi} --> {item} with {confidence}%')\n"
      ],
      "metadata": {
        "id": "lvqWrXwsjfU3"
      },
      "execution_count": 82,
      "outputs": []
    },
    {
      "cell_type": "code",
      "source": [
        "# TODO reduce to all frquent couples from all the partitions (maintain unique frequent couples)\n",
        "compute_association_rules(frequent_itemset_support, frequent_couples)"
      ],
      "metadata": {
        "colab": {
          "base_uri": "https://localhost:8080/"
        },
        "id": "VK17WnyklKVY",
        "outputId": "613d8fb5-b9e5-4996-c1a5-b3855ef6bde6"
      },
      "execution_count": 83,
      "outputs": [
        {
          "output_type": "stream",
          "name": "stdout",
          "text": [
            "['Communication', 'Problemsolving'] --> Customer service with 58.8%\n",
            "['Customer service', 'Problemsolving'] --> Communication with 122.4%\n",
            "['Customer service', 'Communication'] --> Problemsolving with 65.9%\n",
            "['Communication', 'Teamwork'] --> Customer service with 25.8%\n",
            "['Customer service', 'Teamwork'] --> Communication with 51.6%\n",
            "['Customer service', 'Communication'] --> Teamwork with 52.7%\n",
            "['Communication', 'Teamwork'] --> Customer service with 31.2%\n",
            "['Customer service', 'Teamwork'] --> Communication with 62.4%\n",
            "['Customer service', 'Communication'] --> Teamwork with 63.7%\n",
            "['Communication', 'Problemsolving'] --> Customer service with 43.1%\n",
            "['Customer service', 'Problemsolving'] --> Communication with 89.8%\n",
            "['Customer service', 'Communication'] --> Problemsolving with 48.4%\n",
            "['Communication', 'Teamwork'] --> Leadership with 23.1%\n",
            "['Leadership', 'Teamwork'] --> Communication with 61.4%\n",
            "['Leadership', 'Communication'] --> Teamwork with 45.3%\n"
          ]
        }
      ]
    }
  ],
  "metadata": {
    "accelerator": "GPU",
    "colab": {
      "gpuType": "T4",
      "provenance": [],
      "authorship_tag": "ABX9TyP4TB6aNZ0l6hII8W+RuFgL",
      "include_colab_link": true
    },
    "kernelspec": {
      "display_name": "Python 3",
      "name": "python3"
    },
    "language_info": {
      "name": "python"
    }
  },
  "nbformat": 4,
  "nbformat_minor": 0
}