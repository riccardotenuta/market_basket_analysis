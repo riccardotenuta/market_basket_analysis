{
  "cells": [
    {
      "cell_type": "markdown",
      "metadata": {
        "id": "view-in-github",
        "colab_type": "text"
      },
      "source": [
        "<a href=\"https://colab.research.google.com/github/riccardotenuta/market_basket_analysis/blob/main/Market_Basket_Analysis.ipynb\" target=\"_parent\"><img src=\"https://colab.research.google.com/assets/colab-badge.svg\" alt=\"Open In Colab\"/></a>"
      ]
    },
    {
      "cell_type": "markdown",
      "metadata": {
        "id": "0tMrYVtShWEv"
      },
      "source": [
        "# Import dataset from Kaggle"
      ]
    },
    {
      "cell_type": "code",
      "execution_count": 1,
      "metadata": {
        "colab": {
          "base_uri": "https://localhost:8080/",
          "height": 91
        },
        "id": "S3GmKOsou_27",
        "outputId": "0e2f287f-d288-4d86-8ec5-218ee078b050"
      },
      "outputs": [
        {
          "output_type": "display_data",
          "data": {
            "text/plain": [
              "<IPython.core.display.HTML object>"
            ],
            "text/html": [
              "\n",
              "     <input type=\"file\" id=\"files-86bea52a-d39b-45a3-9157-5497e9c01694\" name=\"files[]\" multiple disabled\n",
              "        style=\"border:none\" />\n",
              "     <output id=\"result-86bea52a-d39b-45a3-9157-5497e9c01694\">\n",
              "      Upload widget is only available when the cell has been executed in the\n",
              "      current browser session. Please rerun this cell to enable.\n",
              "      </output>\n",
              "      <script>// Copyright 2017 Google LLC\n",
              "//\n",
              "// Licensed under the Apache License, Version 2.0 (the \"License\");\n",
              "// you may not use this file except in compliance with the License.\n",
              "// You may obtain a copy of the License at\n",
              "//\n",
              "//      http://www.apache.org/licenses/LICENSE-2.0\n",
              "//\n",
              "// Unless required by applicable law or agreed to in writing, software\n",
              "// distributed under the License is distributed on an \"AS IS\" BASIS,\n",
              "// WITHOUT WARRANTIES OR CONDITIONS OF ANY KIND, either express or implied.\n",
              "// See the License for the specific language governing permissions and\n",
              "// limitations under the License.\n",
              "\n",
              "/**\n",
              " * @fileoverview Helpers for google.colab Python module.\n",
              " */\n",
              "(function(scope) {\n",
              "function span(text, styleAttributes = {}) {\n",
              "  const element = document.createElement('span');\n",
              "  element.textContent = text;\n",
              "  for (const key of Object.keys(styleAttributes)) {\n",
              "    element.style[key] = styleAttributes[key];\n",
              "  }\n",
              "  return element;\n",
              "}\n",
              "\n",
              "// Max number of bytes which will be uploaded at a time.\n",
              "const MAX_PAYLOAD_SIZE = 100 * 1024;\n",
              "\n",
              "function _uploadFiles(inputId, outputId) {\n",
              "  const steps = uploadFilesStep(inputId, outputId);\n",
              "  const outputElement = document.getElementById(outputId);\n",
              "  // Cache steps on the outputElement to make it available for the next call\n",
              "  // to uploadFilesContinue from Python.\n",
              "  outputElement.steps = steps;\n",
              "\n",
              "  return _uploadFilesContinue(outputId);\n",
              "}\n",
              "\n",
              "// This is roughly an async generator (not supported in the browser yet),\n",
              "// where there are multiple asynchronous steps and the Python side is going\n",
              "// to poll for completion of each step.\n",
              "// This uses a Promise to block the python side on completion of each step,\n",
              "// then passes the result of the previous step as the input to the next step.\n",
              "function _uploadFilesContinue(outputId) {\n",
              "  const outputElement = document.getElementById(outputId);\n",
              "  const steps = outputElement.steps;\n",
              "\n",
              "  const next = steps.next(outputElement.lastPromiseValue);\n",
              "  return Promise.resolve(next.value.promise).then((value) => {\n",
              "    // Cache the last promise value to make it available to the next\n",
              "    // step of the generator.\n",
              "    outputElement.lastPromiseValue = value;\n",
              "    return next.value.response;\n",
              "  });\n",
              "}\n",
              "\n",
              "/**\n",
              " * Generator function which is called between each async step of the upload\n",
              " * process.\n",
              " * @param {string} inputId Element ID of the input file picker element.\n",
              " * @param {string} outputId Element ID of the output display.\n",
              " * @return {!Iterable<!Object>} Iterable of next steps.\n",
              " */\n",
              "function* uploadFilesStep(inputId, outputId) {\n",
              "  const inputElement = document.getElementById(inputId);\n",
              "  inputElement.disabled = false;\n",
              "\n",
              "  const outputElement = document.getElementById(outputId);\n",
              "  outputElement.innerHTML = '';\n",
              "\n",
              "  const pickedPromise = new Promise((resolve) => {\n",
              "    inputElement.addEventListener('change', (e) => {\n",
              "      resolve(e.target.files);\n",
              "    });\n",
              "  });\n",
              "\n",
              "  const cancel = document.createElement('button');\n",
              "  inputElement.parentElement.appendChild(cancel);\n",
              "  cancel.textContent = 'Cancel upload';\n",
              "  const cancelPromise = new Promise((resolve) => {\n",
              "    cancel.onclick = () => {\n",
              "      resolve(null);\n",
              "    };\n",
              "  });\n",
              "\n",
              "  // Wait for the user to pick the files.\n",
              "  const files = yield {\n",
              "    promise: Promise.race([pickedPromise, cancelPromise]),\n",
              "    response: {\n",
              "      action: 'starting',\n",
              "    }\n",
              "  };\n",
              "\n",
              "  cancel.remove();\n",
              "\n",
              "  // Disable the input element since further picks are not allowed.\n",
              "  inputElement.disabled = true;\n",
              "\n",
              "  if (!files) {\n",
              "    return {\n",
              "      response: {\n",
              "        action: 'complete',\n",
              "      }\n",
              "    };\n",
              "  }\n",
              "\n",
              "  for (const file of files) {\n",
              "    const li = document.createElement('li');\n",
              "    li.append(span(file.name, {fontWeight: 'bold'}));\n",
              "    li.append(span(\n",
              "        `(${file.type || 'n/a'}) - ${file.size} bytes, ` +\n",
              "        `last modified: ${\n",
              "            file.lastModifiedDate ? file.lastModifiedDate.toLocaleDateString() :\n",
              "                                    'n/a'} - `));\n",
              "    const percent = span('0% done');\n",
              "    li.appendChild(percent);\n",
              "\n",
              "    outputElement.appendChild(li);\n",
              "\n",
              "    const fileDataPromise = new Promise((resolve) => {\n",
              "      const reader = new FileReader();\n",
              "      reader.onload = (e) => {\n",
              "        resolve(e.target.result);\n",
              "      };\n",
              "      reader.readAsArrayBuffer(file);\n",
              "    });\n",
              "    // Wait for the data to be ready.\n",
              "    let fileData = yield {\n",
              "      promise: fileDataPromise,\n",
              "      response: {\n",
              "        action: 'continue',\n",
              "      }\n",
              "    };\n",
              "\n",
              "    // Use a chunked sending to avoid message size limits. See b/62115660.\n",
              "    let position = 0;\n",
              "    do {\n",
              "      const length = Math.min(fileData.byteLength - position, MAX_PAYLOAD_SIZE);\n",
              "      const chunk = new Uint8Array(fileData, position, length);\n",
              "      position += length;\n",
              "\n",
              "      const base64 = btoa(String.fromCharCode.apply(null, chunk));\n",
              "      yield {\n",
              "        response: {\n",
              "          action: 'append',\n",
              "          file: file.name,\n",
              "          data: base64,\n",
              "        },\n",
              "      };\n",
              "\n",
              "      let percentDone = fileData.byteLength === 0 ?\n",
              "          100 :\n",
              "          Math.round((position / fileData.byteLength) * 100);\n",
              "      percent.textContent = `${percentDone}% done`;\n",
              "\n",
              "    } while (position < fileData.byteLength);\n",
              "  }\n",
              "\n",
              "  // All done.\n",
              "  yield {\n",
              "    response: {\n",
              "      action: 'complete',\n",
              "    }\n",
              "  };\n",
              "}\n",
              "\n",
              "scope.google = scope.google || {};\n",
              "scope.google.colab = scope.google.colab || {};\n",
              "scope.google.colab._files = {\n",
              "  _uploadFiles,\n",
              "  _uploadFilesContinue,\n",
              "};\n",
              "})(self);\n",
              "</script> "
            ]
          },
          "metadata": {}
        },
        {
          "output_type": "stream",
          "name": "stdout",
          "text": [
            "Saving kaggle.json to kaggle.json\n"
          ]
        },
        {
          "output_type": "execute_result",
          "data": {
            "text/plain": [
              "{'kaggle.json': b'{\"username\":\"riccardotenuta0023\",\"key\":\"9fe14c68d229c6d70a59ac7ce2172410\"}'}"
            ]
          },
          "metadata": {},
          "execution_count": 1
        }
      ],
      "source": [
        "from google.colab import files\n",
        "files.upload()"
      ]
    },
    {
      "cell_type": "code",
      "execution_count": 2,
      "metadata": {
        "colab": {
          "base_uri": "https://localhost:8080/"
        },
        "id": "sFF4rF4ovkGr",
        "outputId": "95f01ee1-4c24-46ba-9c37-4fd15da93021"
      },
      "outputs": [
        {
          "output_type": "stream",
          "name": "stdout",
          "text": [
            "-rw-r--r-- 1 root root 74 Apr 26 15:08 kaggle.json\n",
            "/content\n"
          ]
        }
      ],
      "source": [
        "!ls -lha kaggle.json\n",
        "!pip install -q kaggle # installing the kaggle package\n",
        "!mkdir -p ~/.kaggle # creating .kaggle folder where the key should be placed\n",
        "!cp kaggle.json ~/.kaggle/ # move the key to the folder\n",
        "!pwd # checking the present working directory"
      ]
    },
    {
      "cell_type": "code",
      "execution_count": 3,
      "metadata": {
        "id": "Gl_Cs-6ZwDlT"
      },
      "outputs": [],
      "source": [
        "!chmod 600 ~/.kaggle/kaggle.json"
      ]
    },
    {
      "cell_type": "code",
      "execution_count": 4,
      "metadata": {
        "colab": {
          "base_uri": "https://localhost:8080/"
        },
        "id": "426pxKgjy8sc",
        "outputId": "ab03eba5-d9c7-47ef-c7c8-aeecf0e0ecda"
      },
      "outputs": [
        {
          "output_type": "stream",
          "name": "stdout",
          "text": [
            "Downloading 1-3m-linkedin-jobs-and-skills-2024.zip to /content/drive/MyDrive\n",
            " 99% 1.87G/1.88G [00:21<00:00, 108MB/s]\n",
            "100% 1.88G/1.88G [00:21<00:00, 92.2MB/s]\n"
          ]
        }
      ],
      "source": [
        "!kaggle datasets download -d asaniczka/1-3m-linkedin-jobs-and-skills-2024 -p /content/drive/MyDrive/"
      ]
    },
    {
      "cell_type": "code",
      "execution_count": 5,
      "metadata": {
        "colab": {
          "base_uri": "https://localhost:8080/"
        },
        "id": "LT79m_wuxPLp",
        "outputId": "cbffbeb4-cb2e-45e9-dde1-cc45e18e00c8"
      },
      "outputs": [
        {
          "output_type": "stream",
          "name": "stdout",
          "text": [
            "Archive:  /content/drive/MyDrive/1-3m-linkedin-jobs-and-skills-2024.zip\n",
            "  inflating: /content/drive/MyDrive/job_skills.csv  \n",
            "  inflating: /content/drive/MyDrive/job_summary.csv  \n",
            "  inflating: /content/drive/MyDrive/linkedin_job_postings.csv  \n"
          ]
        }
      ],
      "source": [
        "!unzip /content/drive/MyDrive/1-3m-linkedin-jobs-and-skills-2024.zip -d /content/drive/MyDrive/"
      ]
    },
    {
      "cell_type": "code",
      "execution_count": 6,
      "metadata": {
        "colab": {
          "base_uri": "https://localhost:8080/"
        },
        "id": "e2fH2lDmzG-M",
        "outputId": "40253b14-2baa-494b-af91-eba196f85b2d"
      },
      "outputs": [
        {
          "output_type": "stream",
          "name": "stdout",
          "text": [
            "Collecting pyspark\n",
            "  Downloading pyspark-3.5.1.tar.gz (317.0 MB)\n",
            "\u001b[2K     \u001b[90m━━━━━━━━━━━━━━━━━━━━━━━━━━━━━━━━━━━━━━━━\u001b[0m \u001b[32m317.0/317.0 MB\u001b[0m \u001b[31m3.0 MB/s\u001b[0m eta \u001b[36m0:00:00\u001b[0m\n",
            "\u001b[?25h  Preparing metadata (setup.py) ... \u001b[?25l\u001b[?25hdone\n",
            "Requirement already satisfied: py4j==0.10.9.7 in /usr/local/lib/python3.10/dist-packages (from pyspark) (0.10.9.7)\n",
            "Building wheels for collected packages: pyspark\n",
            "  Building wheel for pyspark (setup.py) ... \u001b[?25l\u001b[?25hdone\n",
            "  Created wheel for pyspark: filename=pyspark-3.5.1-py2.py3-none-any.whl size=317488491 sha256=ba08ed8326356b2399cc5d148a10d0d61a48e0489c244c8186a5901c85fcf8a2\n",
            "  Stored in directory: /root/.cache/pip/wheels/80/1d/60/2c256ed38dddce2fdd93be545214a63e02fbd8d74fb0b7f3a6\n",
            "Successfully built pyspark\n",
            "Installing collected packages: pyspark\n",
            "Successfully installed pyspark-3.5.1\n"
          ]
        }
      ],
      "source": [
        "import pandas as pd\n",
        "import numpy as np\n",
        "import os\n",
        "!pip install pyspark\n",
        "from pyspark.sql import SparkSession\n",
        "import pyspark"
      ]
    },
    {
      "cell_type": "markdown",
      "metadata": {
        "id": "4B9hsnz7h0vI"
      },
      "source": [
        "## Data preparation"
      ]
    },
    {
      "cell_type": "code",
      "execution_count": 7,
      "metadata": {
        "id": "ox0vEju0qrU3"
      },
      "outputs": [],
      "source": [
        "spark = SparkSession.builder.appName(\"linkedin_project_SON\").getOrCreate()"
      ]
    },
    {
      "cell_type": "code",
      "execution_count": 8,
      "metadata": {
        "id": "-DtH0w7NlV6n"
      },
      "outputs": [],
      "source": [
        "# import of the csv and selecting only the job_skills column\n",
        "rdd_from_csv = spark.read.csv('./drive/MyDrive/job_skills.csv', header=True).dropna()\n",
        "rdd_from_csv = rdd_from_csv.select(rdd_from_csv['job_skills']).rdd"
      ]
    },
    {
      "cell_type": "code",
      "execution_count": 9,
      "metadata": {
        "id": "yIE0WvpywYTj"
      },
      "outputs": [],
      "source": [
        "# splitting every basket to create the item list\n",
        "rdd_from_csv = rdd_from_csv.map(lambda basket: basket['job_skills'].split(', '))"
      ]
    },
    {
      "cell_type": "code",
      "execution_count": 10,
      "metadata": {
        "colab": {
          "base_uri": "https://localhost:8080/"
        },
        "id": "Eo7LiVai3UaA",
        "outputId": "32a02d36-294c-4406-c235-a6ade8ddf6f1"
      },
      "outputs": [
        {
          "output_type": "execute_result",
          "data": {
            "text/plain": [
              "[['Building Custodial Services',\n",
              "  'Cleaning',\n",
              "  'Janitorial Services',\n",
              "  'Materials Handling',\n",
              "  'Housekeeping',\n",
              "  'Sanitation',\n",
              "  'Waste Management',\n",
              "  'Floor Maintenance',\n",
              "  'Equipment Maintenance',\n",
              "  'Safety Protocols',\n",
              "  'Communication Skills',\n",
              "  'Attention to Detail',\n",
              "  'Physical Strength',\n",
              "  'Experience in Housekeeping'],\n",
              " ['Customer service',\n",
              "  'Restaurant management',\n",
              "  'Food safety',\n",
              "  'Training',\n",
              "  'Supervision',\n",
              "  'Scheduling',\n",
              "  'Inventory',\n",
              "  'Cost control',\n",
              "  'Sales',\n",
              "  'Communication',\n",
              "  'Problemsolving',\n",
              "  'Leadership',\n",
              "  'Motivation',\n",
              "  'Teamwork',\n",
              "  'High School Diploma',\n",
              "  \"Bachelor's Degree\",\n",
              "  'ServSafe Certification',\n",
              "  \"Valid Driver's License\",\n",
              "  'Physical ability to perform job duties']]"
            ]
          },
          "metadata": {},
          "execution_count": 10
        }
      ],
      "source": [
        "# example of the first two baskets\n",
        "rdd_from_csv.take(2)"
      ]
    },
    {
      "cell_type": "code",
      "execution_count": 11,
      "metadata": {
        "colab": {
          "base_uri": "https://localhost:8080/"
        },
        "id": "OlMYKyfVRmGA",
        "outputId": "496c806d-f1c2-4536-999f-4df5ba446900"
      },
      "outputs": [
        {
          "output_type": "execute_result",
          "data": {
            "text/plain": [
              "12900"
            ]
          },
          "metadata": {},
          "execution_count": 11
        }
      ],
      "source": [
        "# sampling the 10% of the whole dataset to compute easily the SON algorithm\n",
        "rdd_son = rdd_from_csv.sample(withReplacement=False, fraction=0.01)\n",
        "num_baskets = rdd_son.count()\n",
        "num_baskets"
      ]
    },
    {
      "cell_type": "code",
      "execution_count": 12,
      "metadata": {
        "colab": {
          "base_uri": "https://localhost:8080/"
        },
        "id": "PGX1iSc8Xd_K",
        "outputId": "64ad6df6-e6a5-46e0-d13d-411fe3d253fa"
      },
      "outputs": [
        {
          "output_type": "stream",
          "name": "stdout",
          "text": [
            "Partitions before -> 6\n",
            "Optimal partitions -> 8\n"
          ]
        }
      ],
      "source": [
        "initial_partitions = rdd_son.getNumPartitions()\n",
        "\"\"\"\n",
        "Spark suggests to use 2-4 partitions for each CPU on the machine, since running the algorithm only on a single machine\n",
        "I'll take this value from the cpu_count() function inside the multiprocessing library\n",
        "\n",
        "https://spark.apache.org/docs/latest/rdd-programming-guide.html#parallelized-collections\n",
        "\"\"\"\n",
        "from multiprocessing import cpu_count\n",
        "optimal_partitions = 4*cpu_count()\n",
        "\n",
        "rdd_son.repartition(numPartitions=optimal_partitions)\n",
        "\n",
        "print(f'Partitions before -> {initial_partitions}')\n",
        "print(f'Optimal partitions -> {optimal_partitions}')"
      ]
    },
    {
      "cell_type": "code",
      "execution_count": 13,
      "metadata": {
        "colab": {
          "base_uri": "https://localhost:8080/"
        },
        "id": "JZv_AQ01uGjF",
        "outputId": "daa7017f-4cf7-4ce0-c1c6-b662399860a2"
      },
      "outputs": [
        {
          "output_type": "stream",
          "name": "stdout",
          "text": [
            "Support threshold for each partition/chunk of data is 43\n"
          ]
        }
      ],
      "source": [
        "# define the support for each partition\n",
        "\n",
        "support_threshold = round(0.02*num_baskets)\n",
        "st_partition = round(support_threshold / rdd_son.getNumPartitions())\n",
        "\n",
        "print(f'Support threshold for each partition/chunk of data is {st_partition}')"
      ]
    },
    {
      "cell_type": "code",
      "execution_count": 14,
      "metadata": {
        "id": "GR0a7V4rytt8"
      },
      "outputs": [],
      "source": [
        "def first_pass(partition, support: int) -> list:\n",
        "\n",
        "  item_count = {}\n",
        "\n",
        "  for basket in partition:\n",
        "    for item in basket:\n",
        "      item_count[item] = item_count.get(item, 0) + 1\n",
        "\n",
        "  frequent_singleton = [(item, count) for item, count in item_count.items() if count >= support]\n",
        "\n",
        "  return sorted(frequent_singleton, key=lambda x: x[1], reverse=True)\n",
        "\n",
        "first_pass_rdd = rdd_son.mapPartitions(lambda partition: first_pass(partition, st_partition))"
      ]
    },
    {
      "cell_type": "code",
      "execution_count": 15,
      "metadata": {
        "colab": {
          "base_uri": "https://localhost:8080/"
        },
        "id": "R6jsQXJvji5l",
        "outputId": "e4a118c2-f34a-450e-91c8-e3be8981baf7"
      },
      "outputs": [
        {
          "output_type": "execute_result",
          "data": {
            "text/plain": [
              "[('Communication', 633),\n",
              " ('Teamwork', 389),\n",
              " ('Customer service', 280),\n",
              " ('Leadership', 273),\n",
              " ('Communication skills', 221),\n",
              " ('Customer Service', 183),\n",
              " ('Attention to detail', 171),\n",
              " ('Problem Solving', 166),\n",
              " ('Collaboration', 163),\n",
              " ('Communication Skills', 154)]"
            ]
          },
          "metadata": {},
          "execution_count": 15
        }
      ],
      "source": [
        "first_pass_rdd.take(10)"
      ]
    },
    {
      "cell_type": "code",
      "execution_count": 16,
      "metadata": {
        "colab": {
          "base_uri": "https://localhost:8080/"
        },
        "id": "6jk2NnFEDy1Q",
        "outputId": "b69f81a4-c90e-4e5b-d588-28cdf5c639f3"
      },
      "outputs": [
        {
          "output_type": "execute_result",
          "data": {
            "text/plain": [
              "['Communication',\n",
              " 'Teamwork',\n",
              " 'Customer service',\n",
              " 'Leadership',\n",
              " 'Communication skills',\n",
              " 'Customer Service',\n",
              " 'Attention to detail',\n",
              " 'Problem Solving',\n",
              " 'Collaboration',\n",
              " 'Communication Skills']"
            ]
          },
          "metadata": {},
          "execution_count": 16
        }
      ],
      "source": [
        "frequent_singleton = first_pass_rdd.map(lambda item: item[0]).collect()\n",
        "frequent_singleton[:10]"
      ]
    },
    {
      "cell_type": "code",
      "execution_count": 17,
      "metadata": {
        "id": "ZrxyTJI2_wX-"
      },
      "outputs": [],
      "source": [
        "from itertools import combinations\n",
        "\n",
        "def second_pass(partition, support: int) -> list:\n",
        "\n",
        "  couples_count = {}\n",
        "\n",
        "  for basket in partition:\n",
        "    candidate_couples = list(combinations(basket, 2))\n",
        "    for c in candidate_couples:\n",
        "\n",
        "      if all(x in frequent_singleton for x in c):\n",
        "          couples_count[c] = couples_count.get(c, 0) + 1\n",
        "\n",
        "  frequent_couples = [(couple, count) for couple, count in couples_count.items() if count >= support]\n",
        "  return sorted(frequent_couples, reverse=True, key=lambda x: x[1])\n",
        "\n",
        "second_pass_rdd = rdd_son.mapPartitions(lambda partition: second_pass(partition, st_partition))"
      ]
    },
    {
      "cell_type": "code",
      "execution_count": 18,
      "metadata": {
        "colab": {
          "base_uri": "https://localhost:8080/"
        },
        "id": "sbsvpONjCMJT",
        "outputId": "fa2f151b-f58b-4a7b-999c-4235239ad37a"
      },
      "outputs": [
        {
          "output_type": "execute_result",
          "data": {
            "text/plain": [
              "[(('Communication', 'Teamwork'), 195),\n",
              " (('Customer service', 'Communication'), 98),\n",
              " (('Leadership', 'Communication'), 88),\n",
              " (('Communication', 'Leadership'), 81),\n",
              " (('Communication', 'Collaboration'), 80),\n",
              " (('Communication', 'Problem Solving'), 80),\n",
              " (('Customer service', 'Teamwork'), 77),\n",
              " (('Communication', 'Problemsolving'), 74),\n",
              " (('Communication', 'Attention to detail'), 72),\n",
              " (('Leadership', 'Teamwork'), 64)]"
            ]
          },
          "metadata": {},
          "execution_count": 18
        }
      ],
      "source": [
        "second_pass_rdd.take(10)"
      ]
    },
    {
      "cell_type": "code",
      "execution_count": 26,
      "metadata": {
        "id": "0GN3fwqCoh4q"
      },
      "outputs": [],
      "source": [
        "def get_frequent_itemset(partition, support, frequent_itemset, n_pass):\n",
        "\n",
        "  item_set_count = {}\n",
        "  for basket in partition:\n",
        "\n",
        "    candidate_itemset = list(combinations(basket, n_pass))\n",
        "    for c in candidate_itemset:\n",
        "\n",
        "      if n_pass > 2: subset = list(combinations(c, n_pass-1))\n",
        "      else: subset = c\n",
        "\n",
        "      # check if all the item of the candidate set are in the basket and if its subsets are contained in the previous frequent itemsets\n",
        "      if all(x in frequent_itemset for x in subset):\n",
        "        item_set_count[c] = item_set_count.get(c, 0) + 1\n",
        "\n",
        "  new_frequent_itemset = [(itemset, count) for itemset, count in item_set_count.items() if count >= support]\n",
        "\n",
        "  return sorted(new_frequent_itemset, reverse=True, key=lambda x: x[1])\n"
      ]
    },
    {
      "cell_type": "code",
      "execution_count": null,
      "metadata": {
        "colab": {
          "base_uri": "https://localhost:8080/"
        },
        "id": "aUNFug_bjqCB",
        "outputId": "ea70144d-ccc1-4ab3-c8cf-e798fe436964"
      },
      "outputs": [
        {
          "output_type": "stream",
          "name": "stdout",
          "text": [
            "Pass 1\n",
            "[('Communication', 633), ('Teamwork', 389), ('Customer service', 280), ('Leadership', 273), ('Communication skills', 221), ('Customer Service', 183), ('Attention to detail', 171), ('Problem Solving', 166), ('Collaboration', 163), ('Communication Skills', 154)]\n",
            "PythonRDD[61] at RDD at PythonRDD.scala:53\n",
            "Pass 2\n",
            "[(('Communication', 'Teamwork'), 195), (('Customer service', 'Communication'), 98), (('Leadership', 'Communication'), 88), (('Communication', 'Leadership'), 81), (('Communication', 'Collaboration'), 80), (('Communication', 'Problem Solving'), 80), (('Customer service', 'Teamwork'), 77), (('Communication', 'Problemsolving'), 74), (('Communication', 'Attention to detail'), 72), (('Leadership', 'Teamwork'), 64)]\n",
            "PythonRDD[64] at RDD at PythonRDD.scala:53\n",
            "Pass 3\n",
            "[(('Customer service', 'Communication', 'Teamwork'), 51), (('Customer service', 'Communication', 'Problemsolving'), 47), (('Customer service', 'Communication', 'Attention to detail'), 43), (('Leadership', 'Communication', 'Teamwork'), 43), (('Customer service', 'Communication', 'Teamwork'), 49), (('Customer service', 'Communication', 'Problemsolving'), 45), (('Customer service', 'Communication', 'Problemsolving'), 50), (('Customer service', 'Communication', 'Teamwork'), 46), (('Leadership', 'Communication', 'Teamwork'), 43), (('Customer Service', 'Communication', 'Problem Solving'), 43)]\n",
            "PythonRDD[68] at RDD at PythonRDD.scala:53\n",
            "Pass 4\n",
            "[]\n"
          ]
        }
      ],
      "source": [
        "# get frequent singleton\n",
        "\n",
        "n_pass = 1\n",
        "\n",
        "rdd_frequent_itemset = rdd_son.mapPartitions(lambda partition: first_pass(partition, st_partition))\n",
        "print(f'Pass {n_pass}')\n",
        "print(rdd_frequent_itemset.take(10))\n",
        "\n",
        "frequent_itemset = rdd_frequent_itemset.map(lambda item: item[0]).collect()\n",
        "frequent_itemset_len = rdd_frequent_itemset.count()\n",
        "n_pass = 2\n",
        "\n",
        "while len(frequent_itemset) > 0:\n",
        "\n",
        "  rdd_frequent_itemset = rdd_son.mapPartitions(lambda partition: get_frequent_itemset(partition, st_partition, set(frequent_itemset), n_pass))\n",
        "  print(rdd_frequent_itemset)\n",
        "\n",
        "  print(f'Pass {n_pass}')\n",
        "  print(rdd_frequent_itemset.take(10))\n",
        "\n",
        "  frequent_itemset = rdd_frequent_itemset.map(lambda item: item[0]).collect()\n",
        "  n_pass += 1\n"
      ]
    }
  ],
  "metadata": {
    "accelerator": "GPU",
    "colab": {
      "gpuType": "T4",
      "provenance": [],
      "authorship_tag": "ABX9TyPv4BvkGDpGX4eYv9Q/IOs8",
      "include_colab_link": true
    },
    "kernelspec": {
      "display_name": "Python 3",
      "name": "python3"
    },
    "language_info": {
      "name": "python"
    }
  },
  "nbformat": 4,
  "nbformat_minor": 0
}