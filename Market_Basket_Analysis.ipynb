{
  "cells": [
    {
      "cell_type": "markdown",
      "metadata": {
        "id": "view-in-github",
        "colab_type": "text"
      },
      "source": [
        "<a href=\"https://colab.research.google.com/github/riccardotenuta/market_basket_analysis/blob/main/Market_Basket_Analysis.ipynb\" target=\"_parent\"><img src=\"https://colab.research.google.com/assets/colab-badge.svg\" alt=\"Open In Colab\"/></a>"
      ]
    },
    {
      "cell_type": "markdown",
      "metadata": {
        "id": "0tMrYVtShWEv"
      },
      "source": [
        "# Import dataset from Kaggle"
      ]
    },
    {
      "cell_type": "code",
      "execution_count": 1,
      "metadata": {
        "colab": {
          "base_uri": "https://localhost:8080/",
          "height": 91
        },
        "id": "S3GmKOsou_27",
        "outputId": "4f44e2ee-ac59-4433-b4d6-8fc7670b8154"
      },
      "outputs": [
        {
          "output_type": "display_data",
          "data": {
            "text/plain": [
              "<IPython.core.display.HTML object>"
            ],
            "text/html": [
              "\n",
              "     <input type=\"file\" id=\"files-35dc2df1-4f44-4b68-ae4f-dd897a4ff00c\" name=\"files[]\" multiple disabled\n",
              "        style=\"border:none\" />\n",
              "     <output id=\"result-35dc2df1-4f44-4b68-ae4f-dd897a4ff00c\">\n",
              "      Upload widget is only available when the cell has been executed in the\n",
              "      current browser session. Please rerun this cell to enable.\n",
              "      </output>\n",
              "      <script>// Copyright 2017 Google LLC\n",
              "//\n",
              "// Licensed under the Apache License, Version 2.0 (the \"License\");\n",
              "// you may not use this file except in compliance with the License.\n",
              "// You may obtain a copy of the License at\n",
              "//\n",
              "//      http://www.apache.org/licenses/LICENSE-2.0\n",
              "//\n",
              "// Unless required by applicable law or agreed to in writing, software\n",
              "// distributed under the License is distributed on an \"AS IS\" BASIS,\n",
              "// WITHOUT WARRANTIES OR CONDITIONS OF ANY KIND, either express or implied.\n",
              "// See the License for the specific language governing permissions and\n",
              "// limitations under the License.\n",
              "\n",
              "/**\n",
              " * @fileoverview Helpers for google.colab Python module.\n",
              " */\n",
              "(function(scope) {\n",
              "function span(text, styleAttributes = {}) {\n",
              "  const element = document.createElement('span');\n",
              "  element.textContent = text;\n",
              "  for (const key of Object.keys(styleAttributes)) {\n",
              "    element.style[key] = styleAttributes[key];\n",
              "  }\n",
              "  return element;\n",
              "}\n",
              "\n",
              "// Max number of bytes which will be uploaded at a time.\n",
              "const MAX_PAYLOAD_SIZE = 100 * 1024;\n",
              "\n",
              "function _uploadFiles(inputId, outputId) {\n",
              "  const steps = uploadFilesStep(inputId, outputId);\n",
              "  const outputElement = document.getElementById(outputId);\n",
              "  // Cache steps on the outputElement to make it available for the next call\n",
              "  // to uploadFilesContinue from Python.\n",
              "  outputElement.steps = steps;\n",
              "\n",
              "  return _uploadFilesContinue(outputId);\n",
              "}\n",
              "\n",
              "// This is roughly an async generator (not supported in the browser yet),\n",
              "// where there are multiple asynchronous steps and the Python side is going\n",
              "// to poll for completion of each step.\n",
              "// This uses a Promise to block the python side on completion of each step,\n",
              "// then passes the result of the previous step as the input to the next step.\n",
              "function _uploadFilesContinue(outputId) {\n",
              "  const outputElement = document.getElementById(outputId);\n",
              "  const steps = outputElement.steps;\n",
              "\n",
              "  const next = steps.next(outputElement.lastPromiseValue);\n",
              "  return Promise.resolve(next.value.promise).then((value) => {\n",
              "    // Cache the last promise value to make it available to the next\n",
              "    // step of the generator.\n",
              "    outputElement.lastPromiseValue = value;\n",
              "    return next.value.response;\n",
              "  });\n",
              "}\n",
              "\n",
              "/**\n",
              " * Generator function which is called between each async step of the upload\n",
              " * process.\n",
              " * @param {string} inputId Element ID of the input file picker element.\n",
              " * @param {string} outputId Element ID of the output display.\n",
              " * @return {!Iterable<!Object>} Iterable of next steps.\n",
              " */\n",
              "function* uploadFilesStep(inputId, outputId) {\n",
              "  const inputElement = document.getElementById(inputId);\n",
              "  inputElement.disabled = false;\n",
              "\n",
              "  const outputElement = document.getElementById(outputId);\n",
              "  outputElement.innerHTML = '';\n",
              "\n",
              "  const pickedPromise = new Promise((resolve) => {\n",
              "    inputElement.addEventListener('change', (e) => {\n",
              "      resolve(e.target.files);\n",
              "    });\n",
              "  });\n",
              "\n",
              "  const cancel = document.createElement('button');\n",
              "  inputElement.parentElement.appendChild(cancel);\n",
              "  cancel.textContent = 'Cancel upload';\n",
              "  const cancelPromise = new Promise((resolve) => {\n",
              "    cancel.onclick = () => {\n",
              "      resolve(null);\n",
              "    };\n",
              "  });\n",
              "\n",
              "  // Wait for the user to pick the files.\n",
              "  const files = yield {\n",
              "    promise: Promise.race([pickedPromise, cancelPromise]),\n",
              "    response: {\n",
              "      action: 'starting',\n",
              "    }\n",
              "  };\n",
              "\n",
              "  cancel.remove();\n",
              "\n",
              "  // Disable the input element since further picks are not allowed.\n",
              "  inputElement.disabled = true;\n",
              "\n",
              "  if (!files) {\n",
              "    return {\n",
              "      response: {\n",
              "        action: 'complete',\n",
              "      }\n",
              "    };\n",
              "  }\n",
              "\n",
              "  for (const file of files) {\n",
              "    const li = document.createElement('li');\n",
              "    li.append(span(file.name, {fontWeight: 'bold'}));\n",
              "    li.append(span(\n",
              "        `(${file.type || 'n/a'}) - ${file.size} bytes, ` +\n",
              "        `last modified: ${\n",
              "            file.lastModifiedDate ? file.lastModifiedDate.toLocaleDateString() :\n",
              "                                    'n/a'} - `));\n",
              "    const percent = span('0% done');\n",
              "    li.appendChild(percent);\n",
              "\n",
              "    outputElement.appendChild(li);\n",
              "\n",
              "    const fileDataPromise = new Promise((resolve) => {\n",
              "      const reader = new FileReader();\n",
              "      reader.onload = (e) => {\n",
              "        resolve(e.target.result);\n",
              "      };\n",
              "      reader.readAsArrayBuffer(file);\n",
              "    });\n",
              "    // Wait for the data to be ready.\n",
              "    let fileData = yield {\n",
              "      promise: fileDataPromise,\n",
              "      response: {\n",
              "        action: 'continue',\n",
              "      }\n",
              "    };\n",
              "\n",
              "    // Use a chunked sending to avoid message size limits. See b/62115660.\n",
              "    let position = 0;\n",
              "    do {\n",
              "      const length = Math.min(fileData.byteLength - position, MAX_PAYLOAD_SIZE);\n",
              "      const chunk = new Uint8Array(fileData, position, length);\n",
              "      position += length;\n",
              "\n",
              "      const base64 = btoa(String.fromCharCode.apply(null, chunk));\n",
              "      yield {\n",
              "        response: {\n",
              "          action: 'append',\n",
              "          file: file.name,\n",
              "          data: base64,\n",
              "        },\n",
              "      };\n",
              "\n",
              "      let percentDone = fileData.byteLength === 0 ?\n",
              "          100 :\n",
              "          Math.round((position / fileData.byteLength) * 100);\n",
              "      percent.textContent = `${percentDone}% done`;\n",
              "\n",
              "    } while (position < fileData.byteLength);\n",
              "  }\n",
              "\n",
              "  // All done.\n",
              "  yield {\n",
              "    response: {\n",
              "      action: 'complete',\n",
              "    }\n",
              "  };\n",
              "}\n",
              "\n",
              "scope.google = scope.google || {};\n",
              "scope.google.colab = scope.google.colab || {};\n",
              "scope.google.colab._files = {\n",
              "  _uploadFiles,\n",
              "  _uploadFilesContinue,\n",
              "};\n",
              "})(self);\n",
              "</script> "
            ]
          },
          "metadata": {}
        },
        {
          "output_type": "stream",
          "name": "stdout",
          "text": [
            "Saving kaggle.json to kaggle.json\n"
          ]
        },
        {
          "output_type": "execute_result",
          "data": {
            "text/plain": [
              "{'kaggle.json': b'{\"username\":\"riccardotenuta0023\",\"key\":\"9fe14c68d229c6d70a59ac7ce2172410\"}'}"
            ]
          },
          "metadata": {},
          "execution_count": 1
        }
      ],
      "source": [
        "from google.colab import files\n",
        "files.upload()"
      ]
    },
    {
      "cell_type": "code",
      "execution_count": 2,
      "metadata": {
        "colab": {
          "base_uri": "https://localhost:8080/"
        },
        "id": "sFF4rF4ovkGr",
        "outputId": "51d6663f-1e3e-4439-f6cb-fb74333d8dd7"
      },
      "outputs": [
        {
          "output_type": "stream",
          "name": "stdout",
          "text": [
            "-rw-r--r-- 1 root root 74 Apr 30 16:15 kaggle.json\n",
            "/content\n"
          ]
        }
      ],
      "source": [
        "!ls -lha kaggle.json\n",
        "!pip install -q kaggle # installing the kaggle package\n",
        "!mkdir -p ~/.kaggle # creating .kaggle folder where the key should be placed\n",
        "!cp kaggle.json ~/.kaggle/ # move the key to the folder\n",
        "!pwd # checking the present working directory"
      ]
    },
    {
      "cell_type": "code",
      "execution_count": 3,
      "metadata": {
        "id": "Gl_Cs-6ZwDlT"
      },
      "outputs": [],
      "source": [
        "!chmod 600 ~/.kaggle/kaggle.json"
      ]
    },
    {
      "cell_type": "code",
      "execution_count": 4,
      "metadata": {
        "colab": {
          "base_uri": "https://localhost:8080/"
        },
        "id": "426pxKgjy8sc",
        "outputId": "910d72ec-2675-4d2a-9229-e04f33b72c99"
      },
      "outputs": [
        {
          "output_type": "stream",
          "name": "stdout",
          "text": [
            "Downloading 1-3m-linkedin-jobs-and-skills-2024.zip to /content/drive/MyDrive\n",
            " 99% 1.87G/1.88G [00:20<00:00, 143MB/s]\n",
            "100% 1.88G/1.88G [00:20<00:00, 98.4MB/s]\n"
          ]
        }
      ],
      "source": [
        "!kaggle datasets download -d asaniczka/1-3m-linkedin-jobs-and-skills-2024 -p /content/drive/MyDrive/"
      ]
    },
    {
      "cell_type": "code",
      "execution_count": 5,
      "metadata": {
        "colab": {
          "base_uri": "https://localhost:8080/"
        },
        "id": "LT79m_wuxPLp",
        "outputId": "37e246e2-4008-4f77-804e-f5a1f4a0c3f2"
      },
      "outputs": [
        {
          "output_type": "stream",
          "name": "stdout",
          "text": [
            "Archive:  /content/drive/MyDrive/1-3m-linkedin-jobs-and-skills-2024.zip\n",
            "  inflating: /content/drive/MyDrive/job_skills.csv  \n",
            "  inflating: /content/drive/MyDrive/job_summary.csv  \n",
            "  inflating: /content/drive/MyDrive/linkedin_job_postings.csv  \n"
          ]
        }
      ],
      "source": [
        "!unzip /content/drive/MyDrive/1-3m-linkedin-jobs-and-skills-2024.zip -d /content/drive/MyDrive/"
      ]
    },
    {
      "cell_type": "code",
      "execution_count": 6,
      "metadata": {
        "id": "e2fH2lDmzG-M",
        "colab": {
          "base_uri": "https://localhost:8080/"
        },
        "outputId": "f0b2d4cb-9a55-4818-ae14-60380be77d7d"
      },
      "outputs": [
        {
          "output_type": "stream",
          "name": "stdout",
          "text": [
            "Collecting pyspark\n",
            "  Downloading pyspark-3.5.1.tar.gz (317.0 MB)\n",
            "\u001b[2K     \u001b[90m━━━━━━━━━━━━━━━━━━━━━━━━━━━━━━━━━━━━━━━━\u001b[0m \u001b[32m317.0/317.0 MB\u001b[0m \u001b[31m2.9 MB/s\u001b[0m eta \u001b[36m0:00:00\u001b[0m\n",
            "\u001b[?25h  Preparing metadata (setup.py) ... \u001b[?25l\u001b[?25hdone\n",
            "Requirement already satisfied: py4j==0.10.9.7 in /usr/local/lib/python3.10/dist-packages (from pyspark) (0.10.9.7)\n",
            "Building wheels for collected packages: pyspark\n",
            "  Building wheel for pyspark (setup.py) ... \u001b[?25l\u001b[?25hdone\n",
            "  Created wheel for pyspark: filename=pyspark-3.5.1-py2.py3-none-any.whl size=317488491 sha256=68a4ebb17c9c35c521d402887a427383e337358cd41366f60c49049de88282f6\n",
            "  Stored in directory: /root/.cache/pip/wheels/80/1d/60/2c256ed38dddce2fdd93be545214a63e02fbd8d74fb0b7f3a6\n",
            "Successfully built pyspark\n",
            "Installing collected packages: pyspark\n",
            "Successfully installed pyspark-3.5.1\n"
          ]
        }
      ],
      "source": [
        "import pandas as pd\n",
        "import numpy as np\n",
        "import os\n",
        "!pip install pyspark\n",
        "from pyspark.sql import SparkSession\n",
        "import pyspark"
      ]
    },
    {
      "cell_type": "markdown",
      "metadata": {
        "id": "4B9hsnz7h0vI"
      },
      "source": [
        "## Data preparation"
      ]
    },
    {
      "cell_type": "code",
      "execution_count": 8,
      "metadata": {
        "id": "ox0vEju0qrU3"
      },
      "outputs": [],
      "source": [
        "spark = SparkSession.builder.appName(\"linkedin_project_SON\").getOrCreate()"
      ]
    },
    {
      "cell_type": "code",
      "execution_count": 9,
      "metadata": {
        "id": "-DtH0w7NlV6n"
      },
      "outputs": [],
      "source": [
        "# import of the csv and selecting only the job_skills column\n",
        "rdd_from_csv = spark.read.csv('./drive/MyDrive/job_skills.csv', header=True).dropna()\n",
        "rdd_from_csv = rdd_from_csv.select(rdd_from_csv['job_skills']).rdd"
      ]
    },
    {
      "cell_type": "code",
      "execution_count": 10,
      "metadata": {
        "id": "yIE0WvpywYTj"
      },
      "outputs": [],
      "source": [
        "# splitting every basket to create the item list\n",
        "rdd_from_csv = rdd_from_csv.map(lambda basket: basket['job_skills'].split(', '))"
      ]
    },
    {
      "cell_type": "code",
      "execution_count": 11,
      "metadata": {
        "id": "Eo7LiVai3UaA",
        "colab": {
          "base_uri": "https://localhost:8080/"
        },
        "outputId": "1fee2a4d-8dc9-4863-c3be-320d4ecc529d"
      },
      "outputs": [
        {
          "output_type": "execute_result",
          "data": {
            "text/plain": [
              "[['Building Custodial Services',\n",
              "  'Cleaning',\n",
              "  'Janitorial Services',\n",
              "  'Materials Handling',\n",
              "  'Housekeeping',\n",
              "  'Sanitation',\n",
              "  'Waste Management',\n",
              "  'Floor Maintenance',\n",
              "  'Equipment Maintenance',\n",
              "  'Safety Protocols',\n",
              "  'Communication Skills',\n",
              "  'Attention to Detail',\n",
              "  'Physical Strength',\n",
              "  'Experience in Housekeeping'],\n",
              " ['Customer service',\n",
              "  'Restaurant management',\n",
              "  'Food safety',\n",
              "  'Training',\n",
              "  'Supervision',\n",
              "  'Scheduling',\n",
              "  'Inventory',\n",
              "  'Cost control',\n",
              "  'Sales',\n",
              "  'Communication',\n",
              "  'Problemsolving',\n",
              "  'Leadership',\n",
              "  'Motivation',\n",
              "  'Teamwork',\n",
              "  'High School Diploma',\n",
              "  \"Bachelor's Degree\",\n",
              "  'ServSafe Certification',\n",
              "  \"Valid Driver's License\",\n",
              "  'Physical ability to perform job duties']]"
            ]
          },
          "metadata": {},
          "execution_count": 11
        }
      ],
      "source": [
        "# example of the first two baskets\n",
        "rdd_from_csv.take(2)"
      ]
    },
    {
      "cell_type": "code",
      "execution_count": 12,
      "metadata": {
        "id": "OlMYKyfVRmGA",
        "colab": {
          "base_uri": "https://localhost:8080/"
        },
        "outputId": "2cb44d72-ab8f-42fa-a063-489482786375"
      },
      "outputs": [
        {
          "output_type": "execute_result",
          "data": {
            "text/plain": [
              "12918"
            ]
          },
          "metadata": {},
          "execution_count": 12
        }
      ],
      "source": [
        "# sampling the 10% of the whole dataset to compute easily the SON algorithm\n",
        "rdd_son = rdd_from_csv.sample(withReplacement=False, fraction=0.01)\n",
        "num_baskets = rdd_son.count()\n",
        "num_baskets"
      ]
    },
    {
      "cell_type": "code",
      "execution_count": 13,
      "metadata": {
        "id": "PGX1iSc8Xd_K",
        "colab": {
          "base_uri": "https://localhost:8080/"
        },
        "outputId": "b1b07c2f-7718-4470-966e-156d2d6c49bb"
      },
      "outputs": [
        {
          "output_type": "stream",
          "name": "stdout",
          "text": [
            "Partitions before -> 6\n",
            "Optimal partitions -> 8\n"
          ]
        }
      ],
      "source": [
        "initial_partitions = rdd_son.getNumPartitions()\n",
        "\"\"\"\n",
        "Spark suggests to use 2-4 partitions for each CPU on the machine, since running the algorithm only on a single machine\n",
        "I'll take this value from the cpu_count() function inside the multiprocessing library\n",
        "\n",
        "https://spark.apache.org/docs/latest/rdd-programming-guide.html#parallelized-collections\n",
        "\"\"\"\n",
        "from multiprocessing import cpu_count\n",
        "optimal_partitions = 4*cpu_count()\n",
        "\n",
        "rdd_son.repartition(numPartitions=optimal_partitions)\n",
        "\n",
        "print(f'Partitions before -> {initial_partitions}')\n",
        "print(f'Optimal partitions -> {optimal_partitions}')"
      ]
    },
    {
      "cell_type": "code",
      "execution_count": 14,
      "metadata": {
        "id": "JZv_AQ01uGjF",
        "colab": {
          "base_uri": "https://localhost:8080/"
        },
        "outputId": "b514d293-d4fe-45bb-ed14-dc421155548b"
      },
      "outputs": [
        {
          "output_type": "stream",
          "name": "stdout",
          "text": [
            "Support threshold for each partition/chunk of data is 43\n"
          ]
        }
      ],
      "source": [
        "# define the support for each partition\n",
        "\n",
        "support_threshold = round(0.02*num_baskets)\n",
        "st_partition = round(support_threshold / rdd_son.getNumPartitions())\n",
        "\n",
        "print(f'Support threshold for each partition/chunk of data is {st_partition}')"
      ]
    },
    {
      "cell_type": "code",
      "execution_count": 15,
      "metadata": {
        "id": "GR0a7V4rytt8"
      },
      "outputs": [],
      "source": [
        "def first_pass(partition, support: int) -> list:\n",
        "\n",
        "  item_count = {}\n",
        "\n",
        "  for basket in partition:\n",
        "    for item in basket:\n",
        "      item_count[item] = item_count.get(item, 0) + 1\n",
        "\n",
        "  frequent_singleton = [(item, count) for item, count in item_count.items() if count >= support]\n",
        "\n",
        "  return sorted(frequent_singleton, key=lambda x: x[1], reverse=True)\n",
        "\n",
        "first_pass_rdd = rdd_son.mapPartitions(lambda partition: first_pass(partition, st_partition))"
      ]
    },
    {
      "cell_type": "code",
      "execution_count": 16,
      "metadata": {
        "id": "R6jsQXJvji5l",
        "colab": {
          "base_uri": "https://localhost:8080/"
        },
        "outputId": "4a1253ed-38cc-4b57-99e6-27b114c91878"
      },
      "outputs": [
        {
          "output_type": "execute_result",
          "data": {
            "text/plain": [
              "[('Communication', 676),\n",
              " ('Teamwork', 445),\n",
              " ('Leadership', 312),\n",
              " ('Customer service', 292),\n",
              " ('Communication skills', 233),\n",
              " ('Problemsolving', 190),\n",
              " ('Problem Solving', 183),\n",
              " ('Collaboration', 181),\n",
              " ('Customer Service', 180),\n",
              " ('Project Management', 165)]"
            ]
          },
          "metadata": {},
          "execution_count": 16
        }
      ],
      "source": [
        "first_pass_rdd.take(10)"
      ]
    },
    {
      "cell_type": "code",
      "execution_count": 17,
      "metadata": {
        "id": "6jk2NnFEDy1Q",
        "colab": {
          "base_uri": "https://localhost:8080/"
        },
        "outputId": "f1390f40-0dc0-49e6-c361-05d8a8312353"
      },
      "outputs": [
        {
          "output_type": "execute_result",
          "data": {
            "text/plain": [
              "['Communication',\n",
              " 'Teamwork',\n",
              " 'Leadership',\n",
              " 'Customer service',\n",
              " 'Communication skills',\n",
              " 'Problemsolving',\n",
              " 'Problem Solving',\n",
              " 'Collaboration',\n",
              " 'Customer Service',\n",
              " 'Project Management']"
            ]
          },
          "metadata": {},
          "execution_count": 17
        }
      ],
      "source": [
        "frequent_singleton = first_pass_rdd.map(lambda item: item[0]).collect()\n",
        "frequent_singleton[:10]"
      ]
    },
    {
      "cell_type": "code",
      "execution_count": 18,
      "metadata": {
        "id": "ZrxyTJI2_wX-"
      },
      "outputs": [],
      "source": [
        "from itertools import combinations\n",
        "\n",
        "def second_pass(partition, support: int) -> list:\n",
        "\n",
        "  couples_count = {}\n",
        "\n",
        "  for basket in partition:\n",
        "    candidate_couples = list(combinations(basket, 2))\n",
        "    for c in candidate_couples:\n",
        "\n",
        "      if all(x in frequent_singleton for x in c):\n",
        "          couples_count[c] = couples_count.get(c, 0) + 1\n",
        "\n",
        "  frequent_couples = [(couple, count) for couple, count in couples_count.items() if count >= support]\n",
        "  return sorted(frequent_couples, reverse=True, key=lambda x: x[1])\n",
        "\n",
        "second_pass_rdd = rdd_son.mapPartitions(lambda partition: second_pass(partition, st_partition))"
      ]
    },
    {
      "cell_type": "code",
      "source": [
        "frequent_couples = second_pass_rdd.collect()"
      ],
      "metadata": {
        "id": "5X0F2USHzmII"
      },
      "execution_count": 19,
      "outputs": []
    },
    {
      "cell_type": "code",
      "execution_count": 20,
      "metadata": {
        "id": "sbsvpONjCMJT",
        "colab": {
          "base_uri": "https://localhost:8080/"
        },
        "outputId": "c5fb88a2-ef90-4c4a-d221-8bf63def23f1"
      },
      "outputs": [
        {
          "output_type": "execute_result",
          "data": {
            "text/plain": [
              "[(('Communication', 'Teamwork'), 203),\n",
              " (('Leadership', 'Communication'), 109),\n",
              " (('Communication', 'Problemsolving'), 104),\n",
              " (('Communication', 'Problem Solving'), 100),\n",
              " (('Communication', 'Leadership'), 92),\n",
              " (('Customer service', 'Communication'), 89),\n",
              " (('Customer service', 'Teamwork'), 80),\n",
              " (('Communication', 'Collaboration'), 76),\n",
              " (('Communication', 'Time Management'), 76),\n",
              " (('Leadership', 'Teamwork'), 75)]"
            ]
          },
          "metadata": {},
          "execution_count": 20
        }
      ],
      "source": [
        "second_pass_rdd.take(10)"
      ]
    },
    {
      "cell_type": "code",
      "execution_count": 21,
      "metadata": {
        "id": "0GN3fwqCoh4q"
      },
      "outputs": [],
      "source": [
        "def get_frequent_itemset(partition, support, frequent_itemset, n_pass):\n",
        "\n",
        "  item_set_count = {}\n",
        "  for basket in partition:\n",
        "\n",
        "    candidate_itemset = list(combinations(basket, n_pass))\n",
        "    for c in candidate_itemset:\n",
        "\n",
        "      if n_pass > 2: subset = list(combinations(c, n_pass-1))\n",
        "      else: subset = c\n",
        "\n",
        "      # check if all the item of the candidate set are in the basket and if its subsets are contained in the previous frequent itemsets\n",
        "      if all(x in frequent_itemset for x in subset):\n",
        "        item_set_count[c] = item_set_count.get(c, 0) + 1\n",
        "\n",
        "  new_frequent_itemset = [(itemset, count) for itemset, count in item_set_count.items() if count >= support]\n",
        "\n",
        "  return sorted(new_frequent_itemset, reverse=True, key=lambda x: x[1])\n"
      ]
    },
    {
      "cell_type": "code",
      "execution_count": 22,
      "metadata": {
        "id": "aUNFug_bjqCB",
        "colab": {
          "base_uri": "https://localhost:8080/"
        },
        "outputId": "c7de34a6-e14e-4736-a23e-1f8ad6b9059e"
      },
      "outputs": [
        {
          "output_type": "stream",
          "name": "stdout",
          "text": [
            "Pass 1\n",
            "[('Communication', 676), ('Teamwork', 445), ('Leadership', 312), ('Customer service', 292), ('Communication skills', 233), ('Problemsolving', 190), ('Problem Solving', 183), ('Collaboration', 181), ('Customer Service', 180), ('Project Management', 165)]\n",
            "Pass 2\n",
            "[(('Communication', 'Teamwork'), 203), (('Leadership', 'Communication'), 109), (('Communication', 'Problemsolving'), 104), (('Communication', 'Problem Solving'), 100), (('Communication', 'Leadership'), 92), (('Customer service', 'Communication'), 89), (('Customer service', 'Teamwork'), 80), (('Communication', 'Collaboration'), 76), (('Communication', 'Time Management'), 76), (('Leadership', 'Teamwork'), 75)]\n",
            "Pass 3\n",
            "[(('Customer service', 'Communication', 'Teamwork'), 57), (('Customer service', 'Communication', 'Problemsolving'), 56), (('Customer service', 'Communication', 'Problemsolving'), 48), (('Customer service', 'Communication', 'Teamwork'), 48)]\n",
            "Pass 4\n",
            "[]\n"
          ]
        }
      ],
      "source": [
        "# get frequent singleton\n",
        "\n",
        "rdd_iter = []\n",
        "\n",
        "n_pass = 1\n",
        "\n",
        "rdd_frequent_itemset = rdd_son.mapPartitions(lambda partition: first_pass(partition, st_partition))\n",
        "print(f'Pass {n_pass}')\n",
        "print(rdd_frequent_itemset.take(10))\n",
        "rdd_iter.append(rdd_frequent_itemset)\n",
        "\n",
        "frequent_itemset = rdd_frequent_itemset.map(lambda item: item[0]).collect()\n",
        "frequent_itemset_len = rdd_frequent_itemset.count()\n",
        "n_pass = 2\n",
        "\n",
        "checkEmpty = True\n",
        "\n",
        "while len(frequent_itemset) > 0:\n",
        "\n",
        "  rdd_frequent_itemset = rdd_son.mapPartitions(lambda partition: get_frequent_itemset(partition, st_partition, set(frequent_itemset), n_pass))\n",
        "  rdd_iter.append(rdd_frequent_itemset)\n",
        "  print(f'Pass {n_pass}')\n",
        "  print(rdd_frequent_itemset.take(10))\n",
        "\n",
        "  frequent_itemset = [itemset[0] for itemset in rdd_frequent_itemset.collect()]\n",
        "\n",
        "  n_pass += 1\n",
        "\n"
      ]
    },
    {
      "cell_type": "code",
      "execution_count": 23,
      "metadata": {
        "id": "9un3cnSnnLq1",
        "colab": {
          "base_uri": "https://localhost:8080/"
        },
        "outputId": "4d7841e7-210c-437c-a74d-0c175a5046d5"
      },
      "outputs": [
        {
          "output_type": "execute_result",
          "data": {
            "text/plain": [
              "PythonRDD[35] at collect at <ipython-input-22-ad2c723ee76d>:25"
            ]
          },
          "metadata": {},
          "execution_count": 23
        }
      ],
      "source": [
        "rdd_iter[2]"
      ]
    },
    {
      "cell_type": "code",
      "execution_count": 24,
      "metadata": {
        "id": "z6Lwa6dwlYOF"
      },
      "outputs": [],
      "source": [
        "def get_couples_support(couple, frequent_couples):\n",
        "  for c in frequent_couples:\n",
        "    if list(c[0]) == couple:\n",
        "      return c[1]"
      ]
    },
    {
      "cell_type": "code",
      "execution_count": 25,
      "metadata": {
        "id": "lvqWrXwsjfU3"
      },
      "outputs": [],
      "source": [
        "def compute_association_rules(frequent_itemset_support, frequent_couples):\n",
        "  for frequent_itemset in frequent_itemset_support[:5]:\n",
        "    for item in frequent_itemset[0]:\n",
        "      fi = list(frequent_itemset[0])\n",
        "\n",
        "      fi.remove(item)\n",
        "      couple_support = get_couples_support(fi, frequent_couples)\n",
        "      support_with_item = frequent_itemset[1]\n",
        "\n",
        "      confidence = round((support_with_item / couple_support)*100, 1)\n",
        "\n",
        "      print(f'{fi} --> {item} with {confidence}%')\n"
      ]
    },
    {
      "cell_type": "code",
      "execution_count": 26,
      "metadata": {
        "id": "VK17WnyklKVY",
        "colab": {
          "base_uri": "https://localhost:8080/"
        },
        "outputId": "926a808f-b616-44ee-8860-1073e4b0aa63"
      },
      "outputs": [
        {
          "output_type": "stream",
          "name": "stdout",
          "text": [
            "['Communication', 'Teamwork'] --> Customer service with 28.1%\n",
            "['Customer service', 'Teamwork'] --> Communication with 71.2%\n",
            "['Customer service', 'Communication'] --> Teamwork with 64.0%\n",
            "['Communication', 'Problemsolving'] --> Customer service with 53.8%\n",
            "['Customer service', 'Problemsolving'] --> Communication with 76.7%\n",
            "['Customer service', 'Communication'] --> Problemsolving with 62.9%\n",
            "['Communication', 'Problemsolving'] --> Customer service with 46.2%\n",
            "['Customer service', 'Problemsolving'] --> Communication with 65.8%\n",
            "['Customer service', 'Communication'] --> Problemsolving with 53.9%\n",
            "['Communication', 'Teamwork'] --> Customer service with 23.6%\n",
            "['Customer service', 'Teamwork'] --> Communication with 60.0%\n",
            "['Customer service', 'Communication'] --> Teamwork with 53.9%\n"
          ]
        }
      ],
      "source": [
        "# TODO reduce to all frquent couples from all the partitions (maintain unique frequent couples)\n",
        "frequent_triplets = rdd_iter[2].collect()\n",
        "compute_association_rules(frequent_triplets, frequent_couples)"
      ]
    }
  ],
  "metadata": {
    "accelerator": "GPU",
    "colab": {
      "gpuType": "T4",
      "provenance": [],
      "authorship_tag": "ABX9TyOyOEowfbQV6Tg3TW1ILYte",
      "include_colab_link": true
    },
    "kernelspec": {
      "display_name": "Python 3",
      "name": "python3"
    },
    "language_info": {
      "name": "python"
    }
  },
  "nbformat": 4,
  "nbformat_minor": 0
}